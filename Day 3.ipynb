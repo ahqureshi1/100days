{
 "cells": [
  {
   "cell_type": "markdown",
   "id": "f819fa29-08d1-440d-8cf3-5dc43315d700",
   "metadata": {},
   "source": [
    "# If Else condition"
   ]
  },
  {
   "cell_type": "code",
   "execution_count": 28,
   "id": "402893a3-4f4f-488f-a8e9-35dd1b20b038",
   "metadata": {},
   "outputs": [],
   "source": [
    "# if condition:\n",
    "#     do this\n",
    "# else: \n",
    "#     do this"
   ]
  },
  {
   "cell_type": "code",
   "execution_count": 2,
   "id": "f5326468-9f95-46c9-b537-29bc8d25a267",
   "metadata": {},
   "outputs": [
    {
     "name": "stdout",
     "output_type": "stream",
     "text": [
      "Welcome to the rollercoaster ride!\n"
     ]
    },
    {
     "name": "stdin",
     "output_type": "stream",
     "text": [
      "What is your height in cm?  120\n"
     ]
    },
    {
     "name": "stdout",
     "output_type": "stream",
     "text": [
      "Sorry, you have to grow taller before you can ride.\n"
     ]
    }
   ],
   "source": [
    "print(\"Welcome to the rollercoaster ride!\")\n",
    "height = int(input(\"What is your height in cm? \"))\n",
    "if height>120:\n",
    "    print(\"you can ride the rollercoaster!\")\n",
    "else:\n",
    "    print(\"Sorry, you have to grow taller before you can ride.\")"
   ]
  },
  {
   "cell_type": "code",
   "execution_count": 3,
   "id": "6fdc18d4-95d3-4b85-afb4-1be058b4dbc9",
   "metadata": {},
   "outputs": [
    {
     "name": "stdout",
     "output_type": "stream",
     "text": [
      "Welcome to the rollercoaster ride!\n"
     ]
    },
    {
     "name": "stdin",
     "output_type": "stream",
     "text": [
      "What is your height in cm?  120\n"
     ]
    },
    {
     "name": "stdout",
     "output_type": "stream",
     "text": [
      "you can ride the rollercoaster!\n"
     ]
    }
   ],
   "source": [
    "#In this case we use >= condition\n",
    "print(\"Welcome to the rollercoaster ride!\")\n",
    "height = int(input(\"What is your height in cm? \"))\n",
    "if height>=120:\n",
    "    print(\"you can ride the rollercoaster!\")\n",
    "else:\n",
    "    print(\"Sorry, you have to grow taller before you can ride.\")"
   ]
  },
  {
   "cell_type": "code",
   "execution_count": 5,
   "id": "8f1307b4-e172-4827-967e-ef72e163044f",
   "metadata": {},
   "outputs": [
    {
     "name": "stdout",
     "output_type": "stream",
     "text": [
      "Welcome to the rollercoaster ride!\n"
     ]
    },
    {
     "name": "stdin",
     "output_type": "stream",
     "text": [
      "What is your height in cm?  121\n"
     ]
    },
    {
     "name": "stdout",
     "output_type": "stream",
     "text": [
      "Sorry, you have to grow taller before you can ride.\n"
     ]
    }
   ],
   "source": [
    "#In this case we use == condition\n",
    "print(\"Welcome to the rollercoaster ride!\")\n",
    "height = int(input(\"What is your height in cm? \"))\n",
    "if height==120:\n",
    "    print(\"you can ride the rollercoaster!\")\n",
    "else:\n",
    "    print(\"Sorry, you have to grow taller before you can ride.\")"
   ]
  },
  {
   "cell_type": "markdown",
   "id": "2eaf9337-08e4-40fe-9d20-79246f3929dd",
   "metadata": {
    "jp-MarkdownHeadingCollapsed": true
   },
   "source": [
    "### Write a program that works out whether if a given number is an odd or even number"
   ]
  },
  {
   "cell_type": "code",
   "execution_count": 7,
   "id": "4f2a15c0-2de1-4c69-869e-d4a8e7f0f52a",
   "metadata": {},
   "outputs": [
    {
     "name": "stdin",
     "output_type": "stream",
     "text": [
      "Which number do you want to check?  21\n"
     ]
    },
    {
     "name": "stdout",
     "output_type": "stream",
     "text": [
      "This is an odd number.\n"
     ]
    }
   ],
   "source": [
    "number=int(input(\"Which number do you want to check? \"))\n",
    "x = number%2\n",
    "if x==0:\n",
    "    print(\"This is an even number.\")\n",
    "else:\n",
    "    print(\"This is an odd number.\")"
   ]
  },
  {
   "cell_type": "markdown",
   "id": "ae1404ea-ba03-4ac3-b70b-c0f6ef977b28",
   "metadata": {
    "jp-MarkdownHeadingCollapsed": true
   },
   "source": [
    "## Nested If Else conditions:"
   ]
  },
  {
   "cell_type": "code",
   "execution_count": null,
   "id": "5a859f82-2cd9-46a1-beb0-ca7d0903308c",
   "metadata": {},
   "outputs": [],
   "source": [
    "#In nested if else conditions syntax should be like this:\n",
    "# if condition:\n",
    "#    if another condition:\n",
    "#        do this\n",
    "#    else:\n",
    "#        do this\n",
    "# else:\n",
    "#    do this"
   ]
  },
  {
   "cell_type": "code",
   "execution_count": 8,
   "id": "1a3a5704-70c6-4697-a216-dbe9016ac564",
   "metadata": {},
   "outputs": [
    {
     "name": "stdout",
     "output_type": "stream",
     "text": [
      "Welcome to the rollercoaster ride!\n"
     ]
    },
    {
     "name": "stdin",
     "output_type": "stream",
     "text": [
      "What is your height in cm?  120\n"
     ]
    },
    {
     "name": "stdout",
     "output_type": "stream",
     "text": [
      "you can ride the rollercoaster!\n"
     ]
    },
    {
     "name": "stdin",
     "output_type": "stream",
     "text": [
      "What is your age?  18\n"
     ]
    },
    {
     "name": "stdout",
     "output_type": "stream",
     "text": [
      "please pay $12.\n"
     ]
    }
   ],
   "source": [
    "#In this case we use nested if else condition\n",
    "print(\"Welcome to the rollercoaster ride!\")\n",
    "height = int(input(\"What is your height in cm? \"))\n",
    "if height>=120:\n",
    "    print(\"you can ride the rollercoaster!\")\n",
    "    age=int(input(\"What is your age? \"))\n",
    "    if age<18:\n",
    "        print(\"Please pay $7.\")\n",
    "    else:\n",
    "        print(\"please pay $12.\")\n",
    "else:\n",
    "    print(\"Sorry, you have to grow taller before you can ride.\")"
   ]
  },
  {
   "cell_type": "markdown",
   "id": "57c6712f-3fad-4c16-a444-d6c1a72eccaf",
   "metadata": {
    "jp-MarkdownHeadingCollapsed": true
   },
   "source": [
    "## Elif condition"
   ]
  },
  {
   "cell_type": "code",
   "execution_count": 9,
   "id": "2e262396-0c3d-4fae-800d-0622427a9e5d",
   "metadata": {},
   "outputs": [],
   "source": [
    "# If condition 1:\n",
    "#     do A\n",
    "# elif condition 2:\n",
    "#     do B\n",
    "# else:\n",
    "#     do this"
   ]
  },
  {
   "cell_type": "code",
   "execution_count": 10,
   "id": "e5e70374-01bc-4566-a4ac-3812ec587fa3",
   "metadata": {},
   "outputs": [
    {
     "name": "stdout",
     "output_type": "stream",
     "text": [
      "Welcome to the rollercoaster ride!\n"
     ]
    },
    {
     "name": "stdin",
     "output_type": "stream",
     "text": [
      "What is your height in cm?  120\n"
     ]
    },
    {
     "name": "stdout",
     "output_type": "stream",
     "text": [
      "you can ride the rollercoaster!\n"
     ]
    },
    {
     "name": "stdin",
     "output_type": "stream",
     "text": [
      "What is your age?  18\n"
     ]
    },
    {
     "name": "stdout",
     "output_type": "stream",
     "text": [
      "Please pay $7\n"
     ]
    }
   ],
   "source": [
    "#In this case we use if and elif condition\n",
    "print(\"Welcome to the rollercoaster ride!\")\n",
    "height = int(input(\"What is your height in cm? \"))\n",
    "if height>=120:\n",
    "    print(\"you can ride the rollercoaster!\")\n",
    "    age=int(input(\"What is your age? \"))\n",
    "    if age<12:\n",
    "        print(\"Please pay &5\")\n",
    "    elif age <=18:\n",
    "        print(\"Please pay $7\")\n",
    "    else:\n",
    "        print(\"Please pay $12\")\n",
    "else:\n",
    "    print(\"Sorry, you have to grow taller before you can ride.\")"
   ]
  },
  {
   "cell_type": "markdown",
   "id": "e0b3661c-b530-46bd-bd51-9b7c04ecf5bc",
   "metadata": {
    "jp-MarkdownHeadingCollapsed": true
   },
   "source": [
    "## BMI Calculator 2.0"
   ]
  },
  {
   "cell_type": "code",
   "execution_count": 14,
   "id": "e515fd9f-4eeb-4dae-a76b-194b82f0817c",
   "metadata": {},
   "outputs": [
    {
     "name": "stdin",
     "output_type": "stream",
     "text": [
      "Enter your height in m:  2\n",
      "Enter your weight in kg:  170\n"
     ]
    },
    {
     "name": "stdout",
     "output_type": "stream",
     "text": [
      "your BMI is 42, you are clinically obese\n"
     ]
    }
   ],
   "source": [
    "height=float(input(\"Enter your height in m: \"))\n",
    "weight = float(input(\"Enter your weight in kg: \"))\n",
    "BMI = round(weight/height**2)\n",
    "if BMI < 18.5:\n",
    "    print(f\"your BMI is {BMI}, you are underweight\")\n",
    "elif BMI<25:\n",
    "    print(f\"your BMI is {BMI}, you are normal weight\")\n",
    "elif BMI<30:\n",
    "    print(f\"your BMI is {BMI}, you are over weight\")\n",
    "elif BMI<35:\n",
    "    print(f\"your BMI is {BMI}, you are obese\")\n",
    "else:\n",
    "    print(f\"your BMI is {BMI}, you are clinically obese\")"
   ]
  },
  {
   "cell_type": "markdown",
   "id": "0637a37d-bbfb-4d69-a74c-60484910c194",
   "metadata": {
    "jp-MarkdownHeadingCollapsed": true
   },
   "source": [
    "## Assignment (Leap Year Calculator)"
   ]
  },
  {
   "cell_type": "markdown",
   "id": "9b8847ea-c4f6-470e-b786-0d9ba18a0f87",
   "metadata": {},
   "source": [
    "#### On every yar that is divisible by 4, except every year that is evenly divislb 100, unless that year is also divisible by 400"
   ]
  },
  {
   "cell_type": "code",
   "execution_count": 15,
   "id": "b5dd8a0c-28ae-4df4-b701-4534043415e3",
   "metadata": {},
   "outputs": [],
   "source": [
    "# For Example:\n",
    "# 2000 \\ 4 = 500 (leap)\n",
    "# 2000\\100 = 20 (not leap)\n",
    "# 2000\\400 = 5 (leap)\n",
    "# so the year 2000 is a leap year."
   ]
  },
  {
   "cell_type": "code",
   "execution_count": 18,
   "id": "b3ac1f3e-ee51-4701-9891-7fdae7777415",
   "metadata": {},
   "outputs": [
    {
     "name": "stdin",
     "output_type": "stream",
     "text": [
      "Which year do you want to check?  2023\n"
     ]
    },
    {
     "name": "stdout",
     "output_type": "stream",
     "text": [
      "Not a leap year\n"
     ]
    }
   ],
   "source": [
    "year = int(input(\"Which year do you want to check? \"))\n",
    "if year % 4 ==0:\n",
    "    if year % 100:\n",
    "        if year % 400 ==0:\n",
    "            print(\"leap year\")\n",
    "        else:\n",
    "            print(\"Not a leap year\")\n",
    "    else:\n",
    "        print(\"leap year\")\n",
    "else:\n",
    "    print(\"Not a leap year\")"
   ]
  },
  {
   "cell_type": "markdown",
   "id": "59a9c51c-abc4-45fc-ad85-e8d46f0557fe",
   "metadata": {},
   "source": [
    "## Multipel If conditions:(Roller coaster example)"
   ]
  },
  {
   "cell_type": "code",
   "execution_count": 23,
   "id": "059e2541-d2ca-4664-b82a-d72b62423c8c",
   "metadata": {},
   "outputs": [
    {
     "name": "stdout",
     "output_type": "stream",
     "text": [
      "Welcome to the rollercoaster ride!\n"
     ]
    },
    {
     "name": "stdin",
     "output_type": "stream",
     "text": [
      "What is your height in cm?  130\n"
     ]
    },
    {
     "name": "stdout",
     "output_type": "stream",
     "text": [
      "you can ride the rollercoaster!\n"
     ]
    },
    {
     "name": "stdin",
     "output_type": "stream",
     "text": [
      "What is your age?  54\n"
     ]
    },
    {
     "name": "stdout",
     "output_type": "stream",
     "text": [
      "Adult tickets are $12 each.\n"
     ]
    },
    {
     "name": "stdin",
     "output_type": "stream",
     "text": [
      "Do you want a photo taken (Y or N) Y\n"
     ]
    },
    {
     "name": "stdout",
     "output_type": "stream",
     "text": [
      "your final bill is 15\n"
     ]
    }
   ],
   "source": [
    "#In this case we use Multiple if conditions\n",
    "print(\"Welcome to the rollercoaster ride!\")\n",
    "height = int(input(\"What is your height in cm? \"))\n",
    "if height>=120:\n",
    "    print(\"you can ride the rollercoaster!\")\n",
    "    age=int(input(\"What is your age? \"))\n",
    "    if age<12:\n",
    "        bill = 5\n",
    "        print(\"Child tickets are $5 each.\")\n",
    "    elif age<=18:\n",
    "        bill=7\n",
    "        print(\"youth tickets are $7 each.\")\n",
    "    else:\n",
    "        bill=12\n",
    "        print(\"Adult tickets are $12 each.\")\n",
    "    wants_photo =input(\"Do you want a photo taken (Y or N)\")\n",
    "    if wants_photo==\"Y\":\n",
    "        bill +=3\n",
    "    print(f\"your final bill is {bill}\")\n",
    "else:\n",
    "    print(\"Sorry, you have to grow taller before you can ride.\")"
   ]
  },
  {
   "cell_type": "markdown",
   "id": "48055e6e-e91d-4817-9f87-1bc6375e7b5e",
   "metadata": {},
   "source": [
    "## Multiple If Conditions(Pizza Dilivery Project)"
   ]
  },
  {
   "cell_type": "code",
   "execution_count": 27,
   "id": "8f2cbf57-4fe9-462b-ab54-d86e67e4e381",
   "metadata": {},
   "outputs": [
    {
     "name": "stdout",
     "output_type": "stream",
     "text": [
      "Welcome to Python Pizza Diliveries\n"
     ]
    },
    {
     "name": "stdin",
     "output_type": "stream",
     "text": [
      "What size of Pizza do you want? S, M or L L\n",
      "Do you want to add pepporni? Y or N Y\n",
      "Do you want extra cheese? Y or N Y\n"
     ]
    },
    {
     "name": "stdout",
     "output_type": "stream",
     "text": [
      "your final bill is $29\n"
     ]
    }
   ],
   "source": [
    "print(\"Welcome to Python Pizza Diliveries\")\n",
    "size=input(\"What size of Pizza do you want? S, M or L\")\n",
    "add_pepporni= input(\"Do you want to add pepporni? Y or N\")\n",
    "cheese = input(\"Do you want extra cheese? Y or N\")\n",
    "bill = 0\n",
    "if size == \"S\":\n",
    "    bill += 15\n",
    "elif size == \"M\":\n",
    "    bill += 20\n",
    "elif size == \"L\":\n",
    "    bill += 25\n",
    "if add_pepporni == \"Y\":\n",
    "    if size == \"S\":\n",
    "        bill += 2\n",
    "    else:\n",
    "        bill += 3\n",
    "if cheese == \"Y\":\n",
    "    bill+=1\n",
    "print(f\"your final bill is ${bill}\")"
   ]
  },
  {
   "cell_type": "markdown",
   "id": "e25e553d-b1de-42b1-bdc3-3eacbb3a3c67",
   "metadata": {},
   "source": [
    "# Logical Operators"
   ]
  },
  {
   "cell_type": "code",
   "execution_count": 31,
   "id": "ac077802-ded6-4bb5-8343-74c9042e0b72",
   "metadata": {},
   "outputs": [
    {
     "name": "stdout",
     "output_type": "stream",
     "text": [
      "Welcome to the rollercoaster ride!\n"
     ]
    },
    {
     "name": "stdin",
     "output_type": "stream",
     "text": [
      "What is your height in cm?  120\n"
     ]
    },
    {
     "name": "stdout",
     "output_type": "stream",
     "text": [
      "you can ride the rollercoaster!\n"
     ]
    },
    {
     "name": "stdin",
     "output_type": "stream",
     "text": [
      "What is your age?  18\n"
     ]
    },
    {
     "name": "stdout",
     "output_type": "stream",
     "text": [
      "youth tickets are $7 each.\n"
     ]
    },
    {
     "name": "stdin",
     "output_type": "stream",
     "text": [
      "Do you want a photo taken (Y or N) Y\n"
     ]
    },
    {
     "name": "stdout",
     "output_type": "stream",
     "text": [
      "your final bill is $10\n"
     ]
    }
   ],
   "source": [
    "#In this case we use logical operators (or and and not)\n",
    "print(\"Welcome to the rollercoaster ride!\")\n",
    "height = int(input(\"What is your height in cm? \"))\n",
    "bill =0\n",
    "if height>=120:\n",
    "    print(\"you can ride the rollercoaster!\")\n",
    "    age=int(input(\"What is your age? \"))\n",
    "    if age<12:\n",
    "        bill = 5\n",
    "        print(\"Child tickets are $5 each.\")\n",
    "    elif age<=18:\n",
    "        bill=7\n",
    "        print(\"youth tickets are $7 each.\")\n",
    "    elif age >=45 and age <=55:\n",
    "        print(\"you have a free ride.\")\n",
    "    else:\n",
    "        bill = 12\n",
    "        print (\"Adults tickets are $12.\")\n",
    "    wants_photo =input(\"Do you want a photo taken (Y or N)\")\n",
    "    if wants_photo==\"Y\":\n",
    "        bill +=3\n",
    "    print(f\"your final bill is ${bill}\")\n",
    "else:\n",
    "    print(\"Sorry, you have to grow taller before you can ride.\")"
   ]
  },
  {
   "cell_type": "markdown",
   "id": "6f816d36-db27-4d63-afa1-c44d5fce409b",
   "metadata": {},
   "source": [
    "## Assignment (Love Calculator)"
   ]
  },
  {
   "cell_type": "code",
   "execution_count": 37,
   "id": "7c62a9c8-5107-4716-886d-81c3d22deb33",
   "metadata": {},
   "outputs": [
    {
     "name": "stdout",
     "output_type": "stream",
     "text": [
      "Welcome to love calculator\n"
     ]
    },
    {
     "name": "stdin",
     "output_type": "stream",
     "text": [
      "What is your name\n",
      " AyazAli\n",
      "What is their name?\n",
      " Zoha\n"
     ]
    },
    {
     "name": "stdout",
     "output_type": "stream",
     "text": [
      "your love socre is 2, you are like coke & mentos together\n"
     ]
    }
   ],
   "source": [
    "print(\"Welcome to love calculator\")\n",
    "name1=input(\"What is your name\\n\")\n",
    "name2=input(\"What is their name?\\n\")\n",
    "combined_string=name1+name2\n",
    "lover_case_string=combined_string.lower()\n",
    "t=lover_case_string.count(\"t\")\n",
    "r=lover_case_string.count(\"r\")\n",
    "u=lover_case_string.count(\"u\")\n",
    "e=lover_case_string.count(\"e\")\n",
    "true = t+r+u+e\n",
    "l=lover_case_string.count(\"l\")\n",
    "o=lover_case_string.count(\"o\")\n",
    "v=lover_case_string.count(\"v\")\n",
    "e=lover_case_string.count(\"e\")\n",
    "love = l+o+v+e\n",
    "love_score=int(str(true)+str(love))\n",
    "if(love_score<10) or (love_score>90):\n",
    "    print(f\"your love socre is {love_score}, you are like coke & mentos together\")\n",
    "elif(love_score>=40) and (love_score<=50):\n",
    "    print(f\"your love score is{love_score}, you are alright together\")\n",
    "else:\n",
    "    print(f\"your love score is {love_score}\")"
   ]
  },
  {
   "cell_type": "markdown",
   "id": "ae3f9fa6-7374-47bf-b154-9c46c2afed65",
   "metadata": {},
   "source": [
    "## Project (Treausre Island)"
   ]
  },
  {
   "cell_type": "code",
   "execution_count": 38,
   "id": "81604321-ba59-45c8-b2c8-d68594a249f6",
   "metadata": {},
   "outputs": [],
   "source": [
    "# ascii.co.uk/art/treausre"
   ]
  },
  {
   "cell_type": "code",
   "execution_count": 39,
   "id": "4089e4b8-4a91-4e38-a93e-cfd58fed7d1e",
   "metadata": {},
   "outputs": [
    {
     "name": "stdout",
     "output_type": "stream",
     "text": [
      "\n",
      "*******************************************************************************\n",
      "          |                   |                  |                     |\n",
      " _________|________________.=\"\"_;=.______________|_____________________|_______\n",
      "|                   |  ,-\"_,=\"\"     `\"=.|                  |\n",
      "|___________________|__\"=._o`\"-._        `\"=.______________|___________________\n",
      "          |                `\"=._o`\"=._      _`\"=._                     |\n",
      " _________|_____________________:=._o \"=._.\"_.-=\"'\"=.__________________|_______\n",
      "|                   |    __.--\" , ; `\"=._o.\" ,-\"\"\"-._ \".   |\n",
      "|___________________|_._\"  ,. .` ` `` ,  `\"-._\"-._   \". '__|___________________\n",
      "          |           |o`\"=._` , \"` `; .\". ,  \"-._\"-._; ;              |\n",
      " _________|___________| ;`-.o`\"=._; .\" ` '`.\"\\` . \"-._ /_______________|_______\n",
      "|                   | |o;    `\"-.o`\"=._``  '` \" ,__.--o;   |\n",
      "|___________________|_| ;     (#) `-.o `\"=.`_.--\"_o.-; ;___|___________________\n",
      "____/______/______/___|o;._    \"      `\".o|o_.--\"    ;o;____/______/______/____\n",
      "/______/______/______/_\"=._o--._        ; | ;        ; ;/______/______/______/_\n",
      "____/______/______/______/__\"=._o--._   ;o|o;     _._;o;____/______/______/____\n",
      "/______/______/______/______/____\"=._o._; | ;_.--\"o.--\"_/______/______/______/_\n",
      "____/______/______/______/______/_____\"=.o|o_.--\"\"___/______/______/______/____\n",
      "/______/______/______/______/______/______/______/______/______/______/_____ /\n",
      "*******************************************************************************\n",
      "\n",
      "Welcome to Treasure Island.\n",
      "Your mission is to find the treasure.\n"
     ]
    },
    {
     "name": "stdin",
     "output_type": "stream",
     "text": [
      "You're at a cross road. Where do you want to go? Type \"left\" or \"right\" \n",
      " left\n",
      "You've come to a lake. There is an island in the middle of the lake. Type \"wait\" to wait for a boat. Type \"swim\" to swim across. \n",
      " wait\n",
      "You arrive at the island unharmed. There is a house with 3 doors. One red, one yellow and one blue. Which colour do you choose? \n",
      " yellow\n"
     ]
    },
    {
     "name": "stdout",
     "output_type": "stream",
     "text": [
      "You found the treasure! You Win!\n"
     ]
    }
   ],
   "source": [
    "print('''\n",
    "*******************************************************************************\n",
    "          |                   |                  |                     |\n",
    " _________|________________.=\"\"_;=.______________|_____________________|_______\n",
    "|                   |  ,-\"_,=\"\"     `\"=.|                  |\n",
    "|___________________|__\"=._o`\"-._        `\"=.______________|___________________\n",
    "          |                `\"=._o`\"=._      _`\"=._                     |\n",
    " _________|_____________________:=._o \"=._.\"_.-=\"'\"=.__________________|_______\n",
    "|                   |    __.--\" , ; `\"=._o.\" ,-\"\"\"-._ \".   |\n",
    "|___________________|_._\"  ,. .` ` `` ,  `\"-._\"-._   \". '__|___________________\n",
    "          |           |o`\"=._` , \"` `; .\". ,  \"-._\"-._; ;              |\n",
    " _________|___________| ;`-.o`\"=._; .\" ` '`.\"\\` . \"-._ /_______________|_______\n",
    "|                   | |o;    `\"-.o`\"=._``  '` \" ,__.--o;   |\n",
    "|___________________|_| ;     (#) `-.o `\"=.`_.--\"_o.-; ;___|___________________\n",
    "____/______/______/___|o;._    \"      `\".o|o_.--\"    ;o;____/______/______/____\n",
    "/______/______/______/_\"=._o--._        ; | ;        ; ;/______/______/______/_\n",
    "____/______/______/______/__\"=._o--._   ;o|o;     _._;o;____/______/______/____\n",
    "/______/______/______/______/____\"=._o._; | ;_.--\"o.--\"_/______/______/______/_\n",
    "____/______/______/______/______/_____\"=.o|o_.--\"\"___/______/______/______/____\n",
    "/______/______/______/______/______/______/______/______/______/______/_____ /\n",
    "*******************************************************************************\n",
    "''')\n",
    "print(\"Welcome to Treasure Island.\")\n",
    "print(\"Your mission is to find the treasure.\")\n",
    "\n",
    "#Write your code below this line 👇\n",
    "\n",
    "choice1 = input('You\\'re at a cross road. Where do you want to go? Type \"left\" or \"right\" \\n').lower()\n",
    "if choice1 == \"left\":\n",
    "  choice2 = input('You\\'ve come to a lake. There is an island in the middle of the lake. Type \"wait\" to wait for a boat. Type \"swim\" to swim across. \\n').lower()\n",
    "  if choice2 == \"wait\":\n",
    "    choice3 = input(\"You arrive at the island unharmed. There is a house with 3 doors. One red, one yellow and one blue. Which colour do you choose? \\n\").lower()\n",
    "    if choice3 == \"red\":\n",
    "      print(\"It's a room full of fire. Game Over.\")\n",
    "    elif choice3 == \"yellow\":\n",
    "      print(\"You found the treasure! You Win!\")\n",
    "    elif choice3 == \"blue\":\n",
    "      print(\"You enter a room of beasts. Game Over.\")\n",
    "    else:\n",
    "      print(\"You chose a door that doesn't exist. Game Over.\")\n",
    "  else:\n",
    "    print(\"You get attacked by an angry trout. Game Over.\")\n",
    "else:\n",
    "  print(\"You fell into a hole. Game Over.\")"
   ]
  },
  {
   "cell_type": "code",
   "execution_count": null,
   "id": "828bb34f-11ba-4ebf-9114-0e4576e8782a",
   "metadata": {},
   "outputs": [],
   "source": []
  }
 ],
 "metadata": {
  "kernelspec": {
   "display_name": "Python 3 (ipykernel)",
   "language": "python",
   "name": "python3"
  },
  "language_info": {
   "codemirror_mode": {
    "name": "ipython",
    "version": 3
   },
   "file_extension": ".py",
   "mimetype": "text/x-python",
   "name": "python",
   "nbconvert_exporter": "python",
   "pygments_lexer": "ipython3",
   "version": "3.11.7"
  }
 },
 "nbformat": 4,
 "nbformat_minor": 5
}
