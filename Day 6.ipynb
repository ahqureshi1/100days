{
 "cells": [
  {
   "cell_type": "markdown",
   "id": "f1e46778-d0f2-409c-b2cd-235624dcdccb",
   "metadata": {
    "jp-MarkdownHeadingCollapsed": true
   },
   "source": [
    "# Defining a new python function"
   ]
  },
  {
   "cell_type": "code",
   "execution_count": 1,
   "id": "4716e257-ea58-4bea-9f23-fa76d16d94cc",
   "metadata": {},
   "outputs": [
    {
     "name": "stdout",
     "output_type": "stream",
     "text": [
      "Hello\n",
      "Bye\n"
     ]
    }
   ],
   "source": [
    "#for defining a fuction we do:\n",
    "def new_function():\n",
    "    print(\"Hello\")\n",
    "    print(\"Bye\")\n",
    "#for calling our function we do:\n",
    "new_function()"
   ]
  },
  {
   "cell_type": "code",
   "execution_count": 2,
   "id": "4d3cb23d-eb9d-46f1-935c-318bf1dfb2db",
   "metadata": {},
   "outputs": [],
   "source": [
    "# Loops by reeborg.ca\n",
    "# https://reeborg.ca/reeborg.html?lang=en&mode=python&menu=worlds%2Fmenus%2Freeborg_intro_en.json&name=Hurdle%201&url=worlds%2Ftutorial_en%2Fhurdle1.json"
   ]
  },
  {
   "cell_type": "code",
   "execution_count": 6,
   "id": "609d8bcf-04a7-4140-b888-9551818b9717",
   "metadata": {},
   "outputs": [],
   "source": [
    "# In Reeborg world we use different loops to accomplish task\n",
    "# Go to game part (Alone)\n",
    "# def turn_around():\n",
    "#     turn_left()\n",
    "#     turn_left()\n",
    "\n",
    "# move()\n",
    "# move()\n",
    "# turn_around()\n",
    "# move()\n",
    "# move()\n",
    "# turn_around()\n",
    "\n",
    "# Challenge\n",
    "# Write a Reeborg program that turn right the robot\n",
    "# def turn_right():\n",
    "#     turn_left()\n",
    "#     turn_left()\n",
    "#     turn_left()\n",
    "\n",
    "# turn_right()\n",
    "\n",
    "\n",
    "# Challenge\n",
    "# Write a Reeborg program that moves it in square\n",
    "def turn_right():\n",
    "    turn_left()\n",
    "    turn_left()\n",
    "    turn_left()\n",
    "\n",
    "turn_left()\n",
    "move()\n",
    "turn_right()\n",
    "move()\n",
    "turn_right()\n",
    "move()\n",
    "turn_right()\n",
    "move()"
   ]
  },
  {
   "cell_type": "markdown",
   "id": "e0f88949-93c4-4bf8-9664-2b14df5ab203",
   "metadata": {},
   "source": [
    "## Challenge: (Hurdle 1) at Reeborg Robot Program"
   ]
  },
  {
   "cell_type": "code",
   "execution_count": 8,
   "id": "6d2a515c-215e-47b6-94b4-ae44c8f190a5",
   "metadata": {},
   "outputs": [],
   "source": [
    "# To solve hurdle 1 we need following set of program to jump over the 6 hurdles describe in the problem.\n",
    "# def turn_right():\n",
    "#     turn_left()\n",
    "#     turn_left()\n",
    "#     turn_left()\n",
    "\n",
    "# def jump():\n",
    "#     move()\n",
    "#     turn_left()\n",
    "#     move()\n",
    "#     turn_right()\n",
    "#     move()\n",
    "#     turn_right()\n",
    "#     move()\n",
    "#     turn_left()\n",
    "   \n",
    "# for step in range(6):\n",
    "#     jump()"
   ]
  },
  {
   "cell_type": "markdown",
   "id": "6ecbe28c-6d55-4710-8df3-8182aca3b3e8",
   "metadata": {
    "jp-MarkdownHeadingCollapsed": true
   },
   "source": [
    "# While Loops"
   ]
  },
  {
   "cell_type": "markdown",
   "id": "f1b6ae74-fa5b-4ccf-a54f-366758dfa6e3",
   "metadata": {},
   "source": [
    "##### Difference Between for and While loops.\n",
    "\n",
    "1. For Loops:\n",
    "   for item in list_ of_items:\n",
    "       do something to each item\n",
    "   for number in range(a, b)\n",
    "       print(number)\n",
    "2. While Loops\n",
    "   while something is true:\n",
    "       do something repeatedly\n"
   ]
  },
  {
   "cell_type": "code",
   "execution_count": 9,
   "id": "b7635031-5753-44e2-953b-327a22ae1be8",
   "metadata": {},
   "outputs": [],
   "source": [
    "# To solve hurdle 1 by using while loops.\n",
    "# def turn_right():\n",
    "#     turn_left()\n",
    "#     turn_left()\n",
    "#     turn_left()\n",
    "\n",
    "# def jump():\n",
    "#     move()\n",
    "#     turn_left()\n",
    "#     move()\n",
    "#     turn_right()\n",
    "#     move()\n",
    "#     turn_right()\n",
    "#     move()\n",
    "#     turn_left()\n",
    "   \n",
    "# number_of_hurdels=6\n",
    "# while number_of_hurdels>0:\n",
    "#     jump()\n",
    "#     number_of_hurdels-=1"
   ]
  },
  {
   "cell_type": "markdown",
   "id": "b6668a19-c7f1-4dea-b002-61da57dda68e",
   "metadata": {},
   "source": [
    "## Challenge (Hurdle 2) at Reebrog Robot Program"
   ]
  },
  {
   "cell_type": "code",
   "execution_count": 10,
   "id": "02cfb35c-72a5-4de5-ab84-c5ae3c7d110f",
   "metadata": {},
   "outputs": [],
   "source": [
    "# Hurdle no 2: in this hurdle the goal is at any step of the game so we use while loop with at_goal() function\n",
    "# def turn_right():\n",
    "#     turn_left()\n",
    "#     turn_left()\n",
    "#     turn_left()\n",
    "\n",
    "# def jump():\n",
    "#     move()\n",
    "#     turn_left()\n",
    "#     move()\n",
    "#     turn_right()\n",
    "#     move()\n",
    "#     turn_right()\n",
    "#     move()\n",
    "#     turn_left()\n",
    "   \n",
    "\n",
    "# while not at_goal():\n",
    "#     jump()"
   ]
  },
  {
   "cell_type": "markdown",
   "id": "4a80505e-9192-4d36-9d60-40f3214ed8e0",
   "metadata": {},
   "source": [
    "## Challenge (Hurdle 3) at Reebrog Robot Program"
   ]
  },
  {
   "cell_type": "code",
   "execution_count": 12,
   "id": "04d518d2-d295-47c6-aad0-947fe1126a70",
   "metadata": {},
   "outputs": [],
   "source": [
    "# In hurdle no 3 the walls and goal both are in random position we use at_goal() and wall_in_front() both \n",
    "# def turn_right():\n",
    "#     turn_left()\n",
    "#     turn_left()\n",
    "#     turn_left()\n",
    "\n",
    "# def jump():\n",
    "#     turn_left()\n",
    "#     move()\n",
    "#     turn_right()\n",
    "#     move()\n",
    "#     turn_right()\n",
    "#     move()\n",
    "#     turn_left()\n",
    "   \n",
    "\n",
    "# while not at_goal():\n",
    "#     if wall_in_front():\n",
    "#         jump()\n",
    "#     else:\n",
    "#         move()"
   ]
  },
  {
   "cell_type": "markdown",
   "id": "f695bb2e-16d0-4c51-a23b-e64da2b55cb4",
   "metadata": {},
   "source": [
    "## Challenge (Hurdle 4) at Reebrog Robot Program"
   ]
  },
  {
   "cell_type": "code",
   "execution_count": 13,
   "id": "ecb41fcd-212a-4eb1-8024-3bce22f74226",
   "metadata": {},
   "outputs": [],
   "source": [
    "# In Hurdle 4 the walls are of random height and at random postion as well as goal is also at random position\n",
    "# def turn_right():\n",
    "#     turn_left()\n",
    "#     turn_left()\n",
    "#     turn_left()\n",
    "\n",
    "# def jump():\n",
    "#     turn_left()\n",
    "#     while wall_on_right():\n",
    "#         move()\n",
    "#     turn_right()\n",
    "#     move()\n",
    "#     turn_right()\n",
    "#     while front_is_clear():\n",
    "#         move()\n",
    "#     turn_left()\n",
    "   \n",
    "\n",
    "# while not at_goal():\n",
    "#     if wall_in_front():\n",
    "#         jump()\n",
    "#     else:\n",
    "#         move()\n"
   ]
  },
  {
   "cell_type": "markdown",
   "id": "4dce985b-0438-4892-a0aa-52e9517ad032",
   "metadata": {},
   "source": [
    "## Challenge (Maze) at Reebrog Robort Project"
   ]
  },
  {
   "cell_type": "code",
   "execution_count": null,
   "id": "c39ce65d-b9aa-46cd-a30e-202e647ec23b",
   "metadata": {},
   "outputs": [],
   "source": [
    "# in this challenge there is a maze you have to solve it with loops in such a way that it goes to at goal without striking to any wall \n",
    "# def turn_right():\n",
    "#     turn_left()\n",
    "#     turn_left()\n",
    "#     turn_left()\n",
    "\n",
    "\n",
    "# while not at_goal():\n",
    "#     if right_is_clear():\n",
    "#         turn_right()\n",
    "#         move()\n",
    "#     elif front_is_clear():\n",
    "#         move()\n",
    "#     else:\n",
    "#         turn_left()"
   ]
  }
 ],
 "metadata": {
  "kernelspec": {
   "display_name": "Python 3 (ipykernel)",
   "language": "python",
   "name": "python3"
  },
  "language_info": {
   "codemirror_mode": {
    "name": "ipython",
    "version": 3
   },
   "file_extension": ".py",
   "mimetype": "text/x-python",
   "name": "python",
   "nbconvert_exporter": "python",
   "pygments_lexer": "ipython3",
   "version": "3.11.7"
  }
 },
 "nbformat": 4,
 "nbformat_minor": 5
}
