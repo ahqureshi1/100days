{
 "cells": [
  {
   "cell_type": "markdown",
   "id": "55e1ce07-f984-4750-9802-2a76f68d78df",
   "metadata": {
    "jp-MarkdownHeadingCollapsed": true
   },
   "source": [
    "# Strings and Integers"
   ]
  },
  {
   "cell_type": "code",
   "execution_count": 1,
   "id": "3c097b70-2f97-4ab3-8265-8a39e74340cb",
   "metadata": {},
   "outputs": [
    {
     "name": "stdout",
     "output_type": "stream",
     "text": [
      "H\n"
     ]
    }
   ],
   "source": [
    "\"Hello\"\n",
    "print(\"Hello\"[0]) # 0 indicates the first alphabet of word."
   ]
  },
  {
   "cell_type": "code",
   "execution_count": 2,
   "id": "5108f12f-7431-4418-ac27-1dda61e27103",
   "metadata": {},
   "outputs": [
    {
     "name": "stdout",
     "output_type": "stream",
     "text": [
      "o\n"
     ]
    }
   ],
   "source": [
    "print(\"Hello\"[4]) # for pulling out words from a string"
   ]
  },
  {
   "cell_type": "code",
   "execution_count": 3,
   "id": "2cf0a881-c21c-431f-8a4c-4dcd5b270ded",
   "metadata": {},
   "outputs": [
    {
     "name": "stdout",
     "output_type": "stream",
     "text": [
      "12345678\n"
     ]
    }
   ],
   "source": [
    "print(\"1234\"+\"5678\") #It will not treat as Integers but as strings because they are in double quote."
   ]
  },
  {
   "cell_type": "code",
   "execution_count": 4,
   "id": "7a8d6106-5f9c-47e3-b8fd-571a0ecae0b8",
   "metadata": {},
   "outputs": [
    {
     "name": "stdout",
     "output_type": "stream",
     "text": [
      "6912\n"
     ]
    }
   ],
   "source": [
    "print(1234+5678) # Now it will treat as integers and add them "
   ]
  },
  {
   "cell_type": "code",
   "execution_count": 5,
   "id": "efca3b6e-2295-48a1-83da-f656561fe74f",
   "metadata": {},
   "outputs": [
    {
     "name": "stdout",
     "output_type": "stream",
     "text": [
      "3.1428\n"
     ]
    }
   ],
   "source": [
    "# Float are numbers with decimals such as\n",
    "print(3.1428)"
   ]
  },
  {
   "cell_type": "code",
   "execution_count": 6,
   "id": "92518f30-65e1-4bf7-bf95-091c712959d2",
   "metadata": {},
   "outputs": [
    {
     "data": {
      "text/plain": [
       "False"
      ]
     },
     "execution_count": 6,
     "metadata": {},
     "output_type": "execute_result"
    }
   ],
   "source": [
    "#Boolean\n",
    "True\n",
    "False"
   ]
  },
  {
   "cell_type": "code",
   "execution_count": 8,
   "id": "2079999e-6bf2-474c-a57b-f1e7fa5488bf",
   "metadata": {},
   "outputs": [
    {
     "ename": "TypeError",
     "evalue": "object of type 'int' has no len()",
     "output_type": "error",
     "traceback": [
      "\u001b[1;31m---------------------------------------------------------------------------\u001b[0m",
      "\u001b[1;31mTypeError\u001b[0m                                 Traceback (most recent call last)",
      "Cell \u001b[1;32mIn[8], line 3\u001b[0m\n\u001b[0;32m      1\u001b[0m \u001b[38;5;66;03m#Type Error\u001b[39;00m\n\u001b[0;32m      2\u001b[0m \u001b[38;5;66;03m#MOstly occurs when we do not define our data types clearly. Suppose\u001b[39;00m\n\u001b[1;32m----> 3\u001b[0m \u001b[38;5;28mlen\u001b[39m(\u001b[38;5;241m4567\u001b[39m)\n",
      "\u001b[1;31mTypeError\u001b[0m: object of type 'int' has no len()"
     ]
    }
   ],
   "source": [
    "#Type Error\n",
    "#MOstly occurs when we do not define our data types clearly. Suppose\n",
    "len(4567)"
   ]
  },
  {
   "cell_type": "code",
   "execution_count": 10,
   "id": "be27c5d7-41e8-4acb-a1ca-6f5b080f236a",
   "metadata": {},
   "outputs": [
    {
     "name": "stdin",
     "output_type": "stream",
     "text": [
      "What is your name?  haseeb\n"
     ]
    },
    {
     "name": "stdout",
     "output_type": "stream",
     "text": [
      "<class 'int'>\n"
     ]
    }
   ],
   "source": [
    "#Type Check\n",
    "num_char = len(input(\"What is your name? \"))\n",
    "print(type(num_char))"
   ]
  },
  {
   "cell_type": "markdown",
   "id": "c41fdced-b2b4-4d27-bdc6-e809552091dd",
   "metadata": {
    "jp-MarkdownHeadingCollapsed": true
   },
   "source": [
    "# Type Casting and Type Conversion"
   ]
  },
  {
   "cell_type": "code",
   "execution_count": 12,
   "id": "d7d101c9-eeb4-453f-ae54-b66a0198507e",
   "metadata": {},
   "outputs": [
    {
     "name": "stdin",
     "output_type": "stream",
     "text": [
      "What is your name?  hhh\n"
     ]
    },
    {
     "name": "stdout",
     "output_type": "stream",
     "text": [
      "your name has 3 characters\n"
     ]
    }
   ],
   "source": [
    "num_char = len(input(\"What is your name? \"))\n",
    "new_num_char = str(num_char)\n",
    "print(\"your name has \"+new_num_char+\" characters\")\n",
    "               "
   ]
  },
  {
   "cell_type": "code",
   "execution_count": 13,
   "id": "31075fab-38ca-4228-a2f5-ba1122e2e568",
   "metadata": {},
   "outputs": [
    {
     "name": "stdout",
     "output_type": "stream",
     "text": [
      "<class 'float'>\n"
     ]
    }
   ],
   "source": [
    "a = float(123)\n",
    "print(type(a))"
   ]
  },
  {
   "cell_type": "code",
   "execution_count": 14,
   "id": "6a89ef15-2379-4768-80c8-e72fb34c98ca",
   "metadata": {},
   "outputs": [
    {
     "name": "stdout",
     "output_type": "stream",
     "text": [
      "170.5\n"
     ]
    }
   ],
   "source": [
    "print(70 + float(\"100.5\"))"
   ]
  },
  {
   "cell_type": "code",
   "execution_count": 15,
   "id": "3efe9b48-6b7c-4cd4-a3fa-a79568a0c508",
   "metadata": {},
   "outputs": [
    {
     "name": "stdout",
     "output_type": "stream",
     "text": [
      "70100\n"
     ]
    }
   ],
   "source": [
    "print(str(70)+str(100))"
   ]
  },
  {
   "cell_type": "markdown",
   "id": "70f38e0b-4ed9-4706-a0f8-093e8e20ac72",
   "metadata": {
    "jp-MarkdownHeadingCollapsed": true
   },
   "source": [
    "# Challenge"
   ]
  },
  {
   "cell_type": "markdown",
   "id": "0d938750-27b9-4fd5-887d-fd871ea7f85c",
   "metadata": {},
   "source": [
    "##### Get a two digit number from user and add the both digits given by the user."
   ]
  },
  {
   "cell_type": "code",
   "execution_count": 18,
   "id": "470ed952-f4c6-4303-b4bd-3a5497fb40db",
   "metadata": {},
   "outputs": [
    {
     "name": "stdin",
     "output_type": "stream",
     "text": [
      "Write a two digit number:\n",
      " 34\n"
     ]
    },
    {
     "name": "stdout",
     "output_type": "stream",
     "text": [
      "7\n"
     ]
    }
   ],
   "source": [
    "x = input(\"Write a two digit number:\\n\")\n",
    "a = x[0]\n",
    "b = x[1]\n",
    "print(int(a)+int(b))"
   ]
  },
  {
   "cell_type": "markdown",
   "id": "a87b1878-6a74-472e-b6a8-8bf3ad63e844",
   "metadata": {
    "jp-MarkdownHeadingCollapsed": true
   },
   "source": [
    "# Mathematical Operations in Python"
   ]
  },
  {
   "cell_type": "code",
   "execution_count": 21,
   "id": "63c67f90-9fd7-4339-b110-739afe418997",
   "metadata": {},
   "outputs": [
    {
     "name": "stdout",
     "output_type": "stream",
     "text": [
      "7.0\n"
     ]
    }
   ],
   "source": [
    "3+5  #Addition\n",
    "7-4  #subtraction\n",
    "3*2  #Multiplication\n",
    "6/3  #Division\n",
    "2**2 #Power(Exponent)\n",
    "\n",
    "print(3*3+3/3-3)\n",
    "#PEMDASLR\n",
    "# Perenthesis, Exponent, Multiplication, Addition, Subtraction, Left to Right\n",
    "# first it will multply 3*3=9, Then it will divide 3/3=1, then addition 9+1=10, then subtraction 10-3 = 7\n",
    "\n"
   ]
  },
  {
   "cell_type": "markdown",
   "id": "8ce97011-d37f-4604-b6ca-63b4054fa5ff",
   "metadata": {
    "jp-MarkdownHeadingCollapsed": true
   },
   "source": [
    "# BMI Calculator"
   ]
  },
  {
   "cell_type": "markdown",
   "id": "02694600-584b-44ce-ac58-ac479aee61b5",
   "metadata": {},
   "source": [
    "##### BMI = Weight(kg)/height^2(sq.meter)"
   ]
  },
  {
   "cell_type": "code",
   "execution_count": 24,
   "id": "2c816f57-5f49-4b73-b022-b5fba1b37c4a",
   "metadata": {},
   "outputs": [
    {
     "name": "stdin",
     "output_type": "stream",
     "text": [
      "Enter your height in m:  6.2\n",
      "Enter your weight in kg:  50\n"
     ]
    },
    {
     "name": "stdout",
     "output_type": "stream",
     "text": [
      "1\n"
     ]
    }
   ],
   "source": [
    "height = input(\"Enter your height in m: \")\n",
    "weight = input(\"Enter your weight in kg: \")\n",
    "\n",
    "BMI = int(weight)/float(height)**2\n",
    "BMI_as_int = int(BMI)\n",
    "print(BMI_as_int)"
   ]
  },
  {
   "cell_type": "markdown",
   "id": "a5bfe21e-3e70-4782-b358-5db662475762",
   "metadata": {
    "jp-MarkdownHeadingCollapsed": true
   },
   "source": [
    "# Number Manipulation & F string in Python"
   ]
  },
  {
   "cell_type": "code",
   "execution_count": 25,
   "id": "b4071f46-8eca-4259-a691-58f164ee2b7e",
   "metadata": {},
   "outputs": [
    {
     "name": "stdout",
     "output_type": "stream",
     "text": [
      "2.6666666666666665\n"
     ]
    }
   ],
   "source": [
    "print(8/3)"
   ]
  },
  {
   "cell_type": "code",
   "execution_count": 26,
   "id": "f2414c3d-c1a2-45bd-a8d7-7112b1729363",
   "metadata": {},
   "outputs": [
    {
     "name": "stdout",
     "output_type": "stream",
     "text": [
      "2\n"
     ]
    }
   ],
   "source": [
    "print(int(8/3))"
   ]
  },
  {
   "cell_type": "code",
   "execution_count": 27,
   "id": "e7e97dee-3bf0-42ca-a966-93497dcbb992",
   "metadata": {},
   "outputs": [
    {
     "name": "stdout",
     "output_type": "stream",
     "text": [
      "3\n"
     ]
    }
   ],
   "source": [
    "print(round(8/3))"
   ]
  },
  {
   "cell_type": "code",
   "execution_count": 29,
   "id": "4dc45aed-e76c-42b5-9a3a-98efbb18e9ab",
   "metadata": {},
   "outputs": [
    {
     "name": "stdout",
     "output_type": "stream",
     "text": [
      "2.67\n"
     ]
    }
   ],
   "source": [
    "print(round(8/3,2))"
   ]
  },
  {
   "cell_type": "code",
   "execution_count": 31,
   "id": "5d685361-41e3-420a-91a7-37e144903cf0",
   "metadata": {},
   "outputs": [
    {
     "name": "stdout",
     "output_type": "stream",
     "text": [
      "1.0\n"
     ]
    }
   ],
   "source": [
    "result = 4/2    #it will get 2\n",
    "result /=2      # now 2/2, we will get 1\n",
    "print(result)"
   ]
  },
  {
   "cell_type": "code",
   "execution_count": 32,
   "id": "37fc56ea-fbd4-4d61-b5f2-ec7acd195520",
   "metadata": {},
   "outputs": [
    {
     "name": "stdout",
     "output_type": "stream",
     "text": [
      "1\n"
     ]
    }
   ],
   "source": [
    "score = 0\n",
    "score = score +1\n",
    "print(score)"
   ]
  },
  {
   "cell_type": "code",
   "execution_count": 33,
   "id": "d0b01c05-bd70-4ee2-bd11-41fda53752ef",
   "metadata": {},
   "outputs": [
    {
     "name": "stdout",
     "output_type": "stream",
     "text": [
      "1\n"
     ]
    }
   ],
   "source": [
    "score = 0\n",
    "score +=1\n",
    "print(score)"
   ]
  },
  {
   "cell_type": "code",
   "execution_count": 34,
   "id": "78c62924-7954-4c77-8eaf-506664f4de6c",
   "metadata": {},
   "outputs": [
    {
     "ename": "TypeError",
     "evalue": "can only concatenate str (not \"int\") to str",
     "output_type": "error",
     "traceback": [
      "\u001b[1;31m---------------------------------------------------------------------------\u001b[0m",
      "\u001b[1;31mTypeError\u001b[0m                                 Traceback (most recent call last)",
      "Cell \u001b[1;32mIn[34], line 1\u001b[0m\n\u001b[1;32m----> 1\u001b[0m \u001b[38;5;28mprint\u001b[39m (\u001b[38;5;124m\"\u001b[39m\u001b[38;5;124myour score is\u001b[39m\u001b[38;5;124m\"\u001b[39m \u001b[38;5;241m+\u001b[39m score)\n",
      "\u001b[1;31mTypeError\u001b[0m: can only concatenate str (not \"int\") to str"
     ]
    }
   ],
   "source": [
    "print (\"your score is\" + score) #it will give error because score is int and it can not be written with a string"
   ]
  },
  {
   "cell_type": "code",
   "execution_count": 36,
   "id": "73f9b4c0-8bdc-44df-91e4-531cd7f67ac2",
   "metadata": {},
   "outputs": [
    {
     "name": "stdout",
     "output_type": "stream",
     "text": [
      "your score is 1\n"
     ]
    }
   ],
   "source": [
    "print (\"your score is \" + str(score))"
   ]
  },
  {
   "cell_type": "markdown",
   "id": "9c47aca0-8587-4f68-afdf-b478f6ec0570",
   "metadata": {
    "jp-MarkdownHeadingCollapsed": true
   },
   "source": [
    "# F String"
   ]
  },
  {
   "cell_type": "code",
   "execution_count": 37,
   "id": "a445742c-7a26-454a-812d-cecc18b71539",
   "metadata": {},
   "outputs": [
    {
     "name": "stdout",
     "output_type": "stream",
     "text": [
      "your score is 0, your height is 1.8, your winning is True\n"
     ]
    }
   ],
   "source": [
    "score = 0\n",
    "height = 1.8\n",
    "isWinning = True\n",
    "print(f\"your score is {score}, your height is {height}, your winning is {isWinning}\")"
   ]
  },
  {
   "cell_type": "markdown",
   "id": "e8e8d77d-0c4c-4ff3-b77e-65b1d4148a6f",
   "metadata": {
    "jp-MarkdownHeadingCollapsed": true
   },
   "source": [
    "# Assignmnet (Life in Weeks, days and Months)"
   ]
  },
  {
   "cell_type": "code",
   "execution_count": 40,
   "id": "78181f54-4073-405e-b29a-ffb2acd19aee",
   "metadata": {},
   "outputs": [
    {
     "name": "stdin",
     "output_type": "stream",
     "text": [
      "What is your current age?  34\n"
     ]
    },
    {
     "name": "stdout",
     "output_type": "stream",
     "text": [
      "you have 20440 days remaining, you have 2912 weeks remainig, you have 672 months remaining\n"
     ]
    }
   ],
   "source": [
    "age = input(\"What is your current age? \")\n",
    "age_as_int=int(age)\n",
    "years_remaining = 90 - age_as_int\n",
    "days_remaining = years_remaining * 365\n",
    "weeks_remaining = years_remaining * 52\n",
    "months_remaining = years_remaining * 12\n",
    "message = f\"you have {days_remaining} days remaining, you have {weeks_remaining} weeks remainig, you have {months_remaining} months remaining\"\n",
    "print(message)"
   ]
  },
  {
   "cell_type": "markdown",
   "id": "5ed884cb-0967-438c-9e31-919b945abc64",
   "metadata": {
    "jp-MarkdownHeadingCollapsed": true
   },
   "source": [
    "# Assignment (Tip Calculator)"
   ]
  },
  {
   "cell_type": "code",
   "execution_count": 42,
   "id": "4ad9209a-9ffe-4418-8886-9b4826dd18b7",
   "metadata": {},
   "outputs": [
    {
     "name": "stdout",
     "output_type": "stream",
     "text": [
      "Welcome to the tip calculator!\n"
     ]
    },
    {
     "name": "stdin",
     "output_type": "stream",
     "text": [
      "What was the total bill? $ 140\n",
      "How much tip would you like to give? 10, 12 or 15 percent? 10\n",
      "How many people to split the bill? 2\n"
     ]
    },
    {
     "name": "stdout",
     "output_type": "stream",
     "text": [
      "Each person should pay: $77.00\n"
     ]
    }
   ],
   "source": [
    "print(\"Welcome to the tip calculator!\")\n",
    "bill=float(input(\"What was the total bill? $\"))\n",
    "tip=int(input(\"How much tip would you like to give? 10, 12 or 15 percent?\"))\n",
    "people=int(input(\"How many people to split the bill?\"))\n",
    "tip_as_percent = tip/100\n",
    "total_tip_amount = bill*tip_as_percent\n",
    "total_bill = bill+total_tip_amount\n",
    "bill_per_person=total_bill/people\n",
    "final_amount=round(bill_per_person)\n",
    "final_amount=\"{:.2f}\".format(bill_per_person)\n",
    "print(f\"Each person should pay: ${final_amount}\")"
   ]
  }
 ],
 "metadata": {
  "kernelspec": {
   "display_name": "Python 3 (ipykernel)",
   "language": "python",
   "name": "python3"
  },
  "language_info": {
   "codemirror_mode": {
    "name": "ipython",
    "version": 3
   },
   "file_extension": ".py",
   "mimetype": "text/x-python",
   "name": "python",
   "nbconvert_exporter": "python",
   "pygments_lexer": "ipython3",
   "version": "3.11.7"
  }
 },
 "nbformat": 4,
 "nbformat_minor": 5
}
