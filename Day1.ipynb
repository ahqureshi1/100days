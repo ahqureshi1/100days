{
 "cells": [
  {
   "cell_type": "markdown",
   "id": "52dd5951-05b7-4c11-9cba-6e6faef6934f",
   "metadata": {
    "jp-MarkdownHeadingCollapsed": true
   },
   "source": [
    "# String Concatenation"
   ]
  },
  {
   "cell_type": "code",
   "execution_count": 2,
   "id": "0f7158e5-82e1-4115-b24b-d6e62ea5422a",
   "metadata": {},
   "outputs": [
    {
     "name": "stdout",
     "output_type": "stream",
     "text": [
      "Hello world!\n",
      " Hellow world!\n"
     ]
    }
   ],
   "source": [
    "print(\"Hello world!\\n Hello world!\") #It can print two hello world but both will be in different lines we use \\n for this."
   ]
  },
  {
   "cell_type": "code",
   "execution_count": 3,
   "id": "82c76c32-2bb6-44ea-9d58-75ea37e15563",
   "metadata": {},
   "outputs": [
    {
     "name": "stdout",
     "output_type": "stream",
     "text": [
      "HelloAngela\n"
     ]
    }
   ],
   "source": [
    "print(\"Hello\" + \"Angela\") #It will combine both strings and Print Hello Angela"
   ]
  },
  {
   "cell_type": "code",
   "execution_count": 4,
   "id": "c6d2f427-88de-4112-a6aa-3b00479e045e",
   "metadata": {},
   "outputs": [
    {
     "name": "stdout",
     "output_type": "stream",
     "text": [
      "Hello Angela\n"
     ]
    }
   ],
   "source": [
    "print(\"Hello\" + \" \" + \"Angela\") #It will add space between two strings"
   ]
  },
  {
   "cell_type": "code",
   "execution_count": 5,
   "id": "cb880896-4628-4d87-a184-9cc88e046855",
   "metadata": {},
   "outputs": [
    {
     "ename": "SyntaxError",
     "evalue": "unterminated string literal (detected at line 1) (2955743231.py, line 1)",
     "output_type": "error",
     "traceback": [
      "\u001b[1;36m  Cell \u001b[1;32mIn[5], line 1\u001b[1;36m\u001b[0m\n\u001b[1;33m    print(Day1 - string manipulation\")\u001b[0m\n\u001b[1;37m                                    ^\u001b[0m\n\u001b[1;31mSyntaxError\u001b[0m\u001b[1;31m:\u001b[0m unterminated string literal (detected at line 1)\n"
     ]
    }
   ],
   "source": [
    "print(Day1 - string manipulation\") #Error double quote in start is missing"
   ]
  },
  {
   "cell_type": "code",
   "execution_count": 6,
   "id": "e1b63fe1-6000-41b3-bf69-f8fb96637a18",
   "metadata": {},
   "outputs": [
    {
     "name": "stdout",
     "output_type": "stream",
     "text": [
      "Day1 - String Manipulation\n"
     ]
    }
   ],
   "source": [
    "print(\"Day1 - String Manipulation\") #Correct"
   ]
  },
  {
   "cell_type": "code",
   "execution_count": 7,
   "id": "45def56d-7363-4f2a-b25a-aad18f2754a3",
   "metadata": {},
   "outputs": [
    {
     "name": "stdout",
     "output_type": "stream",
     "text": [
      "String concatenation is done with the  sign.\n"
     ]
    }
   ],
   "source": [
    "print(\"String concatenation is done with the \"+\" sign.\") # Double quote inside a double quote cannot be used."
   ]
  },
  {
   "cell_type": "code",
   "execution_count": 9,
   "id": "d9f958f9-80dd-4ea7-8194-393abfc678ad",
   "metadata": {},
   "outputs": [
    {
     "name": "stdout",
     "output_type": "stream",
     "text": [
      "String concatenation is done with the \"+\" sign\n"
     ]
    }
   ],
   "source": [
    "print('String concatenation is done with the \"+\" sign') #If you need double quote inside your sentence then put string in single quote"
   ]
  },
  {
   "cell_type": "markdown",
   "id": "d9a47e2c-c34f-457f-917c-3bf0a2db6fdf",
   "metadata": {
    "jp-MarkdownHeadingCollapsed": true
   },
   "source": [
    "# The Python Input Function"
   ]
  },
  {
   "cell_type": "code",
   "execution_count": 10,
   "id": "3c04ef66-2999-411a-a7fc-599b97211a20",
   "metadata": {},
   "outputs": [
    {
     "name": "stdin",
     "output_type": "stream",
     "text": [
      "What is your name?  haseeb\n"
     ]
    },
    {
     "data": {
      "text/plain": [
       "'haseeb'"
      ]
     },
     "execution_count": 10,
     "metadata": {},
     "output_type": "execute_result"
    }
   ],
   "source": [
    "input(\"What is your name? \")"
   ]
  },
  {
   "cell_type": "code",
   "execution_count": 11,
   "id": "9c396b6d-48c2-4312-9b20-9a7636bab470",
   "metadata": {},
   "outputs": [
    {
     "name": "stdin",
     "output_type": "stream",
     "text": [
      "What is your name?  haseeb\n"
     ]
    },
    {
     "name": "stdout",
     "output_type": "stream",
     "text": [
      "Hello haseeb\n"
     ]
    }
   ],
   "source": [
    "print(\"Hello \"+input(\"What is your name? \"))"
   ]
  },
  {
   "cell_type": "code",
   "execution_count": 12,
   "id": "6c86a538-135e-4215-a35a-4cd7039a1a46",
   "metadata": {},
   "outputs": [
    {
     "name": "stdin",
     "output_type": "stream",
     "text": [
      "What is your name?  haseeb\n"
     ]
    },
    {
     "name": "stdout",
     "output_type": "stream",
     "text": [
      "6\n"
     ]
    }
   ],
   "source": [
    "#To calculate length of a function\n",
    "print(len(input(\"What is your name? \")))"
   ]
  },
  {
   "cell_type": "markdown",
   "id": "df93cb5d-2f08-4e30-b6ef-016f80a833c2",
   "metadata": {
    "jp-MarkdownHeadingCollapsed": true
   },
   "source": [
    "# The Python Variables"
   ]
  },
  {
   "cell_type": "code",
   "execution_count": 13,
   "id": "bda321f0-4664-477a-ab93-bc5a8796a19c",
   "metadata": {},
   "outputs": [
    {
     "name": "stdin",
     "output_type": "stream",
     "text": [
      "What is your name?  haseeb\n"
     ]
    },
    {
     "name": "stdout",
     "output_type": "stream",
     "text": [
      "haseeb\n"
     ]
    }
   ],
   "source": [
    "name = input(\"What is your name? \")\n",
    "print(name)"
   ]
  },
  {
   "cell_type": "code",
   "execution_count": 14,
   "id": "cca73a68-f86b-47ad-bdce-8b21d8cc9cf5",
   "metadata": {},
   "outputs": [
    {
     "name": "stdin",
     "output_type": "stream",
     "text": [
      "What is your name?  haseeb\n"
     ]
    },
    {
     "name": "stdout",
     "output_type": "stream",
     "text": [
      "6\n"
     ]
    }
   ],
   "source": [
    "name = input(\"What is your name? \")\n",
    "length = len(name)\n",
    "print(length)"
   ]
  },
  {
   "cell_type": "markdown",
   "id": "907b1cb4-dbce-4ba9-a9b5-929699031337",
   "metadata": {},
   "source": [
    "## Switching Values of variables"
   ]
  },
  {
   "cell_type": "code",
   "execution_count": 16,
   "id": "0f88df84-1946-4795-a532-196fc4b7c849",
   "metadata": {},
   "outputs": [
    {
     "name": "stdin",
     "output_type": "stream",
     "text": [
      "a:  1\n",
      "b:  2\n"
     ]
    },
    {
     "name": "stdout",
     "output_type": "stream",
     "text": [
      "a = 2\n",
      "b = 1\n"
     ]
    }
   ],
   "source": [
    "a = input(\"a: \")\n",
    "b = input(\"b: \")\n",
    "c = a\n",
    "a = b\n",
    "b = c\n",
    "print (\"a = \"+a)\n",
    "print (\"b = \"+b)"
   ]
  },
  {
   "cell_type": "code",
   "execution_count": 17,
   "id": "0534d4cb-145f-4b14-8692-d8ab4b662622",
   "metadata": {},
   "outputs": [],
   "source": [
    "#For variables we cannot use number before alphabates and we cannot add spaces between variable\n",
    "# user_name (correct)\n",
    "# user name (incorrect) space is added \n",
    "# length1=20 (correct)\n",
    "# 1length = 20 (incorrect)   number used before"
   ]
  },
  {
   "cell_type": "markdown",
   "id": "f9216947-82d0-408e-a678-c6fa32cfd6e7",
   "metadata": {
    "jp-MarkdownHeadingCollapsed": true
   },
   "source": [
    "# Project: Brand Name Generator"
   ]
  },
  {
   "cell_type": "code",
   "execution_count": 18,
   "id": "27979f57-970b-4fe0-8b53-0779dc8fbbb2",
   "metadata": {},
   "outputs": [
    {
     "name": "stdout",
     "output_type": "stream",
     "text": [
      "Welcome to the Brand name generator.\n"
     ]
    },
    {
     "name": "stdin",
     "output_type": "stream",
     "text": [
      "What is the name of city you grew up in? \n",
      " karachi\n",
      "What's your pet's name?\n",
      " billi\n"
     ]
    },
    {
     "name": "stdout",
     "output_type": "stream",
     "text": [
      "Your brand name could be karachi billi\n"
     ]
    }
   ],
   "source": [
    "print(\"Welcome to the Brand name generator.\")\n",
    "x = input(\"What is the name of city you grew up in? \\n\")\n",
    "y = input(\"What's your pet's name?\\n\")\n",
    "print(\"Your brand name could be \"+ x + \" \" + y)"
   ]
  },
  {
   "cell_type": "code",
   "execution_count": null,
   "id": "9de6025f-39d9-4957-8964-dba543edabd8",
   "metadata": {},
   "outputs": [],
   "source": []
  }
 ],
 "metadata": {
  "kernelspec": {
   "display_name": "Python 3 (ipykernel)",
   "language": "python",
   "name": "python3"
  },
  "language_info": {
   "codemirror_mode": {
    "name": "ipython",
    "version": 3
   },
   "file_extension": ".py",
   "mimetype": "text/x-python",
   "name": "python",
   "nbconvert_exporter": "python",
   "pygments_lexer": "ipython3",
   "version": "3.11.7"
  }
 },
 "nbformat": 4,
 "nbformat_minor": 5
}
