{
 "cells": [
  {
   "cell_type": "markdown",
   "id": "d3499b8d-55d8-4161-b387-5078cfb29146",
   "metadata": {
    "jp-MarkdownHeadingCollapsed": true
   },
   "source": [
    "# Random Module"
   ]
  },
  {
   "cell_type": "code",
   "execution_count": 7,
   "id": "9db07f5d-b225-4cb0-87d4-e92c5a0bcd54",
   "metadata": {},
   "outputs": [
    {
     "name": "stdout",
     "output_type": "stream",
     "text": [
      "10\n"
     ]
    }
   ],
   "source": [
    "import random\n",
    "random_integer=random.randint(1,10)\n",
    "print(random_integer)"
   ]
  },
  {
   "cell_type": "code",
   "execution_count": 22,
   "id": "d0953145-8329-4da1-90ca-2e72ab69d980",
   "metadata": {},
   "outputs": [
    {
     "name": "stdout",
     "output_type": "stream",
     "text": [
      "0.2902099686607704\n"
     ]
    }
   ],
   "source": [
    "#it ranges from 0 to 0.9999999999\n",
    "random_float = random.random()\n",
    "print(random_float)"
   ]
  },
  {
   "cell_type": "code",
   "execution_count": 27,
   "id": "29fa8903-1c24-484a-8aed-3fa9766fba02",
   "metadata": {},
   "outputs": [
    {
     "name": "stdout",
     "output_type": "stream",
     "text": [
      "4.082555697649758\n"
     ]
    }
   ],
   "source": [
    "# it ranges from 0 to 4.9999999999\n",
    "randomfloat=random.random()*5\n",
    "print(randomfloat)"
   ]
  },
  {
   "cell_type": "markdown",
   "id": "f7690f4f-7cf7-4614-8d6a-30c4a9d38900",
   "metadata": {},
   "source": [
    "## Interactive Coding Exercise (Head and Tails Game)"
   ]
  },
  {
   "cell_type": "code",
   "execution_count": 43,
   "id": "6871bd0a-ff54-4a7e-b95b-c4ec65e53daa",
   "metadata": {},
   "outputs": [
    {
     "name": "stdout",
     "output_type": "stream",
     "text": [
      "Heads\n"
     ]
    }
   ],
   "source": [
    "import random\n",
    "\n",
    "random_side = random.randint(0, 1)\n",
    "if random_side == 1:\n",
    "  print(\"Heads\")\n",
    "else:\n",
    "  print(\"Tails\")"
   ]
  },
  {
   "cell_type": "markdown",
   "id": "c9bae7bf-3740-4f5d-bd6a-0f6c4f362e3d",
   "metadata": {
    "jp-MarkdownHeadingCollapsed": true
   },
   "source": [
    "# Lists"
   ]
  },
  {
   "cell_type": "code",
   "execution_count": 45,
   "id": "36745e83-bb81-445c-8ba1-8c6414dbe1c9",
   "metadata": {},
   "outputs": [
    {
     "name": "stdout",
     "output_type": "stream",
     "text": [
      "['Delaware', 'Pennsylvania', 'New Jersey', 'Georgia', 'Connecticut', 'Massachusetts', 'Maryland', 'South Carolina', 'New Hampshire', 'Virginia', 'New York', 'North Carolina', 'Rhode Island', 'Vermont', 'Kentucky', 'Tennessee', 'Ohio', 'Louisiana', 'Indiana', 'Mississippi', 'Illinois', 'Alabama', 'Maine', 'Missouri', 'Arkansas', 'Michigan', 'Florida', 'Texas', 'Iowa', 'Wisconsin', 'California', 'Minnesota', 'Oregon', 'Kansas', 'West Virginia', 'Nevada', 'Nebraska', 'Colorado', 'North Dakota', 'South Dakota', 'Montana', 'Washington', 'Idaho', 'Wyoming', 'Utah', 'Oklahoma', 'New Mexico', 'Arizona', 'Alaska', 'Hawaii']\n"
     ]
    }
   ],
   "source": [
    "states_of_america = [\"Delaware\", \"Pennsylvania\", \"New Jersey\", \n",
    "                     \"Georgia\", \"Connecticut\", \"Massachusetts\", \n",
    "                     \"Maryland\", \"South Carolina\", \"New Hampshire\", \n",
    "                     \"Virginia\", \"New York\", \"North Carolina\", \n",
    "                     \"Rhode Island\", \"Vermont\", \"Kentucky\", \"Tennessee\", \n",
    "                     \"Ohio\", \"Louisiana\", \"Indiana\", \"Mississippi\", \n",
    "                     \"Illinois\", \"Alabama\", \"Maine\", \"Missouri\", \n",
    "                     \"Arkansas\", \"Michigan\", \"Florida\", \"Texas\", \n",
    "                     \"Iowa\", \"Wisconsin\", \"California\", \"Minnesota\", \n",
    "                     \"Oregon\", \"Kansas\", \"West Virginia\", \"Nevada\", \n",
    "                     \"Nebraska\", \"Colorado\", \"North Dakota\", \"South Dakota\", \n",
    "                     \"Montana\", \"Washington\", \"Idaho\", \"Wyoming\", \"Utah\", \n",
    "                     \"Oklahoma\", \"New Mexico\", \"Arizona\", \"Alaska\", \"Hawaii\"]\n",
    "print(states_of_america)\n",
    "#in list we count numbers from 0 (suppose 1st element of list has index of 0 )\n",
    "# in list we count negative from -1 (Suppose last element of list has index of -1)"
   ]
  },
  {
   "cell_type": "code",
   "execution_count": 46,
   "id": "bbdd810c-4316-4ac5-8b66-9f4bca0f5a06",
   "metadata": {},
   "outputs": [
    {
     "name": "stdout",
     "output_type": "stream",
     "text": [
      "Delaware\n"
     ]
    }
   ],
   "source": [
    "print(states_of_america[0])"
   ]
  },
  {
   "cell_type": "code",
   "execution_count": 49,
   "id": "e6610bb7-9fb5-4b41-9dd3-cb327b03a461",
   "metadata": {},
   "outputs": [
    {
     "name": "stdout",
     "output_type": "stream",
     "text": [
      "Hawaii\n"
     ]
    }
   ],
   "source": [
    "print(states_of_america[-1])"
   ]
  },
  {
   "cell_type": "code",
   "execution_count": 48,
   "id": "feda9e11-5b4d-4058-96d2-049bee0cf02c",
   "metadata": {},
   "outputs": [
    {
     "name": "stdout",
     "output_type": "stream",
     "text": [
      "Connecticut\n"
     ]
    }
   ],
   "source": [
    "print(states_of_america[4])"
   ]
  },
  {
   "cell_type": "code",
   "execution_count": 50,
   "id": "75949983-765e-431f-84c2-7e9bfd93ba29",
   "metadata": {},
   "outputs": [
    {
     "name": "stdout",
     "output_type": "stream",
     "text": [
      "Nectarines\n"
     ]
    }
   ],
   "source": [
    "dirty_dozen = [\"Strawberries\", \"Spinach\", \"Kale\", \"Nectarines\", \"Apples\", \"Grapes\", \"Peaches\", \"Cherries\", \"Pears\", \"Tomatoes\", \"Celery\", \"Potatoes\"]\n",
    "print(dirty_dozen[3])"
   ]
  },
  {
   "cell_type": "markdown",
   "id": "14ea8fda-0255-4f50-90de-f0b08d94d71f",
   "metadata": {
    "jp-MarkdownHeadingCollapsed": true
   },
   "source": [
    "## List More Functions"
   ]
  },
  {
   "cell_type": "code",
   "execution_count": 77,
   "id": "6bd815f1-9e0e-482e-a3f6-45c1bbfbe09c",
   "metadata": {},
   "outputs": [
    {
     "name": "stdout",
     "output_type": "stream",
     "text": [
      "['apple', 'banana', 'Cherry', 'pineapple']\n"
     ]
    }
   ],
   "source": [
    "fruits = [\"apple\", \"banana\",\"Cherry\",\"pineapple\"]\n",
    "print(fruits)"
   ]
  },
  {
   "cell_type": "code",
   "execution_count": 78,
   "id": "52a26faa-39b9-4a2a-80c4-91119fb4df8a",
   "metadata": {},
   "outputs": [
    {
     "name": "stdout",
     "output_type": "stream",
     "text": [
      "['apple', 'banana', 'Cherry', 'pineapple', 'Mangos']\n"
     ]
    }
   ],
   "source": [
    "# 1st list function is Append(Add an item to the end of the list)\n",
    "\n",
    "fruits.append(\"Mangos\")\n",
    "print(fruits)"
   ]
  },
  {
   "cell_type": "code",
   "execution_count": 79,
   "id": "647ca002-ba03-4d9b-b9fa-693fb09d7156",
   "metadata": {},
   "outputs": [
    {
     "name": "stdout",
     "output_type": "stream",
     "text": [
      "['apple', 'banana', 'Cherry', 'pineapple', 'Mangos', 'Tomato', 'Watermelon', 'Strawberry']\n"
     ]
    }
   ],
   "source": [
    "# 2nd function is Extend (Extend the list by appending all the items from the iterable)\n",
    "fruits.extend([\"Tomato\", \"Watermelon\", \"Strawberry\"])\n",
    "print(fruits)"
   ]
  },
  {
   "cell_type": "code",
   "execution_count": 80,
   "id": "3cc0f07f-d7d5-4a14-ad3d-e373a79aa075",
   "metadata": {},
   "outputs": [
    {
     "name": "stdout",
     "output_type": "stream",
     "text": [
      "['apple', 'orange', 'banana', 'Cherry', 'pineapple', 'Mangos', 'Tomato', 'Watermelon', 'Strawberry']\n"
     ]
    }
   ],
   "source": [
    "# 3rd function is insert (Insert an item at a given position. The first argument is the index of the element before which to insert, so a.insert(0, x))\n",
    "fruits.insert(1,\"orange\") #on index 1 it add orange in the list\n",
    "print(fruits)"
   ]
  },
  {
   "cell_type": "code",
   "execution_count": 81,
   "id": "30f51b17-8fe7-4e29-9a62-e36b7edc9091",
   "metadata": {},
   "outputs": [
    {
     "name": "stdout",
     "output_type": "stream",
     "text": [
      "['apple', 'orange', 'Cherry', 'pineapple', 'Mangos', 'Tomato', 'Watermelon', 'Strawberry']\n"
     ]
    }
   ],
   "source": [
    "#4th function is remove (Remove the first item from the list whose value is equal to x)\n",
    "fruits.remove(\"banana\")\n",
    "print(fruits)"
   ]
  },
  {
   "cell_type": "code",
   "execution_count": 82,
   "id": "761d7301-2cc3-441d-97e5-c5769a243294",
   "metadata": {},
   "outputs": [
    {
     "data": {
      "text/plain": [
       "'Strawberry'"
      ]
     },
     "execution_count": 82,
     "metadata": {},
     "output_type": "execute_result"
    }
   ],
   "source": [
    "#5th function is pop (Remove the item at the given position in the list, and return it. If no index is specified)\n",
    "fruits.pop()"
   ]
  },
  {
   "cell_type": "code",
   "execution_count": 84,
   "id": "b6c36b30-5e17-4e60-afed-ea245e7dc001",
   "metadata": {},
   "outputs": [
    {
     "name": "stdout",
     "output_type": "stream",
     "text": [
      "[]\n"
     ]
    }
   ],
   "source": [
    "#6 function is clear.(Remove all items from the list. Equivalent to del a[:].)\n",
    "fruits.clear()\n",
    "print(fruits)"
   ]
  },
  {
   "cell_type": "code",
   "execution_count": 98,
   "id": "be8e232d-b0de-4487-a746-fc276cdcdef6",
   "metadata": {},
   "outputs": [
    {
     "name": "stdout",
     "output_type": "stream",
     "text": [
      "0\n",
      "1\n"
     ]
    },
    {
     "data": {
      "text/plain": [
       "6"
      ]
     },
     "execution_count": 98,
     "metadata": {},
     "output_type": "execute_result"
    }
   ],
   "source": [
    "#7 function is index.  if you want to find the index of particular item in the list you use index function (Return zero-based index in the list of the first item whose value is equal to x. Raises a ValueError if there is no such item.)\n",
    "fruits = ['orange', 'apple', 'pear', 'banana', 'kiwi', 'apple', 'banana']\n",
    "x=fruits.index('orange')\n",
    "print(x)\n",
    "y=fruits.index('apple')\n",
    "print(y)\n",
    "fruits.index('banana',4)\n"
   ]
  },
  {
   "cell_type": "code",
   "execution_count": 103,
   "id": "eab386ef-192e-4db5-bcad-400d607a220c",
   "metadata": {},
   "outputs": [
    {
     "name": "stdout",
     "output_type": "stream",
     "text": [
      "2\n",
      "2\n",
      "1\n"
     ]
    }
   ],
   "source": [
    "#8 function is count. Return the number of times x appears in the list.\n",
    "fruits = ['orange', 'apple', 'pear', 'banana', 'kiwi', 'apple', 'banana']\n",
    "x=fruits.count('banana')\n",
    "print(x)\n",
    "y=fruits.count('apple')\n",
    "print(y)\n",
    "z=fruits.count('pear')\n",
    "print(z)"
   ]
  },
  {
   "cell_type": "code",
   "execution_count": 110,
   "id": "20cb5bfe-36e4-4ed3-ba90-07352b99e3ad",
   "metadata": {},
   "outputs": [
    {
     "name": "stdout",
     "output_type": "stream",
     "text": [
      "['apple', 'apple', 'banana', 'banana', 'kiwi', 'orange', 'pear']\n"
     ]
    }
   ],
   "source": [
    "#9 function is sort. \n",
    "fruits = ['orange', 'apple', 'pear', 'banana', 'kiwi', 'apple', 'banana']\n",
    "fruits.sort()\n",
    "print(fruits)\n"
   ]
  },
  {
   "cell_type": "code",
   "execution_count": 111,
   "id": "2af2d73a-10f5-4513-8aba-cd7f526a89cf",
   "metadata": {},
   "outputs": [
    {
     "name": "stdout",
     "output_type": "stream",
     "text": [
      "['banana', 'apple', 'kiwi', 'banana', 'pear', 'apple', 'orange']\n"
     ]
    }
   ],
   "source": [
    "#10 function is reverse. It will reverse the order of list\n",
    "fruits = ['orange', 'apple', 'pear', 'banana', 'kiwi', 'apple', 'banana']\n",
    "fruits.reverse()\n",
    "print(fruits)"
   ]
  },
  {
   "cell_type": "code",
   "execution_count": 113,
   "id": "4d89c6a4-cae4-4cd7-a58d-8a6e3cea5e4d",
   "metadata": {},
   "outputs": [
    {
     "name": "stdout",
     "output_type": "stream",
     "text": [
      "['orange', 'apple', 'pear', 'banana', 'kiwi', 'apple', 'banana']\n",
      "['orange', 'apple', 'pear', 'banana', 'kiwi', 'apple', 'banana']\n"
     ]
    }
   ],
   "source": [
    "#11 function is copy. it will copy your list inot new coppied list\n",
    "fruits = ['orange', 'apple', 'pear', 'banana', 'kiwi', 'apple', 'banana']\n",
    "x=fruits.copy()\n",
    "print(fruits)\n",
    "print(x)"
   ]
  },
  {
   "cell_type": "markdown",
   "id": "a7efa3b1-37c9-4627-b30e-4e07e232ff16",
   "metadata": {
    "jp-MarkdownHeadingCollapsed": true
   },
   "source": [
    "## Exercise (Banker Roulette)"
   ]
  },
  {
   "cell_type": "code",
   "execution_count": 118,
   "id": "1801aabc-cd38-41ad-a921-08bf406c7bf4",
   "metadata": {},
   "outputs": [
    {
     "name": "stdin",
     "output_type": "stream",
     "text": [
      "Give me everybody's name, separted by a comma. aa, bb, cc, dd, ee,\n"
     ]
    },
    {
     "name": "stdout",
     "output_type": "stream",
     "text": [
      "5\n",
      "bb\n"
     ]
    }
   ],
   "source": [
    "names_string=input(\"Give me everybody's name, separted by a comma.\")\n",
    "names = names_string.split(\", \")\n",
    "\n",
    "import random\n",
    "\n",
    "# Get the total number of items in list.\n",
    "num_items = len(names)\n",
    "# Generate random numbers between 0 and the last index. \n",
    "random_choice = random.randint(0, num_items - 1)\n",
    "# Choose and print a random name.\n",
    "print(names[random_choice])"
   ]
  },
  {
   "cell_type": "markdown",
   "id": "f8698d70-af32-40e1-b8f0-5766f841824e",
   "metadata": {
    "jp-MarkdownHeadingCollapsed": true
   },
   "source": [
    "## A shorter Way to Do Banker Roulette is "
   ]
  },
  {
   "cell_type": "code",
   "execution_count": 119,
   "id": "1eccdbc9-8e1d-4d50-adb0-51acb4e812de",
   "metadata": {},
   "outputs": [
    {
     "name": "stdin",
     "output_type": "stream",
     "text": [
      "Give me everybody's name, separted by a comma. Ashraf, Huzaifa, Taimoor, Ayaz\n"
     ]
    },
    {
     "name": "stdout",
     "output_type": "stream",
     "text": [
      "Ayaz is going to pay the bill today\n"
     ]
    }
   ],
   "source": [
    "names_string=input(\"Give me everybody's name, separted by a comma.\")\n",
    "names = names_string.split(\", \")\n",
    "\n",
    "import random\n",
    "\n",
    "person_who_will_pay = random.choice(names)\n",
    "print(person_who_will_pay+ \" is going to pay the bill today\")"
   ]
  },
  {
   "cell_type": "markdown",
   "id": "9103b6d7-eef8-4beb-ae2f-6a7eff81c89f",
   "metadata": {
    "jp-MarkdownHeadingCollapsed": true
   },
   "source": [
    "## Index Errors and Working with Nested Lists"
   ]
  },
  {
   "cell_type": "code",
   "execution_count": 120,
   "id": "c9bda758-8245-4c4f-a79a-aa9c945fa384",
   "metadata": {},
   "outputs": [],
   "source": [
    "#Index Error occurs because our list index always starts with 0 so we have suppose 50 items in a list\n",
    "#but we have index between 0-49. So we always do -1 for index to be accurate."
   ]
  },
  {
   "cell_type": "code",
   "execution_count": 127,
   "id": "b3c1f8ca-56af-41ce-a500-5a4a2d1cd251",
   "metadata": {},
   "outputs": [
    {
     "name": "stdout",
     "output_type": "stream",
     "text": [
      "[['Strawberries', 'Nectarines', 'Apples', 'Grapes', 'Peaches', 'Cherries', 'Pears'], ['Spinach', 'Kale', 'Tomatoes', 'Celery', 'Potatoes']]\n",
      "['Strawberries', 'Nectarines', 'Apples', 'Grapes', 'Peaches', 'Cherries', 'Pears']\n",
      "['Spinach', 'Kale', 'Tomatoes', 'Celery', 'Potatoes']\n",
      "Tomatoes\n",
      "Celery\n"
     ]
    }
   ],
   "source": [
    "# A list that contains two list is called nested list suppose:\n",
    "fruits = [\"Strawberries\", \"Nectarines\", \"Apples\", \"Grapes\", \"Peaches\",\"Cherries\", \"Pears\"]\n",
    "vegetables = [\"Spinach\", \"Kale\", \"Tomatoes\", \"Celery\", \"Potatoes\"]\n",
    "dirty_dozen=[fruits, vegetables]\n",
    "print(dirty_dozen)\n",
    "print(dirty_dozen[0])\n",
    "print(dirty_dozen[1])\n",
    "print(dirty_dozen[1][2])\n",
    "print(dirty_dozen[1][3])"
   ]
  },
  {
   "cell_type": "markdown",
   "id": "d7291336-5430-4d4b-a52c-be87940740d3",
   "metadata": {
    "jp-MarkdownHeadingCollapsed": true
   },
   "source": [
    "## Quizz"
   ]
  },
  {
   "cell_type": "code",
   "execution_count": 124,
   "id": "e94907ef-116d-428f-b7c8-a5ef82a7843d",
   "metadata": {},
   "outputs": [],
   "source": [
    "#Question 1:\n",
    "#Given the following list:\n",
    "\n",
    "#fruits = [\"Strawberries\", \"Nectarines\", \"Apples\", \"Grapes\", \"Peaches\", \"Cherries\", \"Pears\"]\n",
    "#Which line of code will give you \"Apples\"?\n",
    "# 1) fruits[3]\n",
    "# 2) fruits[4]\n",
    "# 3) fruits.Apple()\n",
    "# 4) fruits[-5] Correct Answer\n",
    "# 5) fruits[-4]\n",
    "\n",
    "\n",
    "# Question 2:\n",
    "# Given the code below:\n",
    "\n",
    "# fruits = [\"Strawberries\", \"Nectarines\", \"Apples\", \"Grapes\", \"Peaches\", \"Cherries\", \"Pears\"]\n",
    "# fruits[-1] = \"Melons\"\n",
    "# fruits.append(\"Lemons\")\n",
    "# print(fruits)\n",
    "# What do you think will be printed?\n",
    "# 1) [\"Strawberries\", \"Nectarines\", \"Apples\", \"Grapes\", \"Peaches\", \"Cherries\", \"lemons\"]\n",
    "# 2) [\"Strawberries\", \"Nectarines\", \"Apples\", \"Grapes\", \"Peaches\", \"Cherries\", \"Pears\",\"lemons\"]\n",
    "# 3) [\"Strawberries\", \"Nectarines\", \"Apples\", \"Grapes\", \"Peaches\", \"Cherries\", \"Pears\",\"Melons\",\"lemons\"]\n",
    "# 4) [\"Strawberries\", \"Nectarines\", \"Apples\", \"Grapes\", \"Peaches\", \"Cherries\", \"Melons\",\"lemons\"] Correct Answer is 5\n",
    "\n",
    "\n",
    "# Question 3:\n",
    "# Given the code below:\n",
    "\n",
    "# fruits = [\"Strawberries\", \"Nectarines\", \"Apples\", \"Grapes\", \"Peaches\", \"Cherries\", \"Pears\"]\n",
    "# vegetables = [\"Spinach\", \"Kale\", \"Tomatoes\", \"Celery\", \"Potatoes\"]\n",
    " \n",
    "# dirty_dozen = [fruits, vegetables]\n",
    " \n",
    "# print(dirty_dozen[1][1])\n",
    "# What will be printed?\n",
    "# 1) \"Spinach\"\n",
    "# 2) \"Strawberries\"\n",
    "# 3) \"Kale\"            Correct Answer is Kale\n",
    "# 4) [\"Spanich\", \"Kale\", \"Tomatoes\", \"Celery\", \"Potatoes\"]\n",
    "# 5) \"Nectarines\"\n"
   ]
  },
  {
   "cell_type": "code",
   "execution_count": 132,
   "id": "e7ea8b27-3ae4-43c8-bc4a-22608b31f3f4",
   "metadata": {},
   "outputs": [
    {
     "name": "stdout",
     "output_type": "stream",
     "text": [
      "Hiding your treasure! X marks the spot.\n"
     ]
    },
    {
     "name": "stdin",
     "output_type": "stream",
     "text": [
      "Where do you want to put the treasure? b2\n"
     ]
    },
    {
     "name": "stdout",
     "output_type": "stream",
     "text": [
      "['⬜️', '️⬜️', '️⬜️']\n",
      "['⬜️', 'X', '️⬜️']\n",
      "['⬜️️', '⬜️️', '⬜️️']\n"
     ]
    }
   ],
   "source": [
    "line1 = [\"⬜️\",\"️⬜️\",\"️⬜️\"]\n",
    "line2 = [\"⬜️\",\"⬜️\",\"️⬜️\"]\n",
    "line3 = [\"⬜️️\",\"⬜️️\",\"⬜️️\"]\n",
    "map = [line1, line2, line3]\n",
    "print(\"Hiding your treasure! X marks the spot.\")\n",
    "position = input(\"Where do you want to put the treasure?\") \n",
    "letter = position[0].lower()\n",
    "abc = [\"a\", \"b\", \"c\"]\n",
    "letter_index = abc.index(letter)\n",
    "number_index = int(position[1]) - 1\n",
    "map[number_index][letter_index] = \"X\"\n",
    "\n",
    "print(f\"{line1}\\n{line2}\\n{line3}\")"
   ]
  },
  {
   "cell_type": "markdown",
   "id": "b0c23dfb-0ff4-4ee8-a524-49cf1c997f50",
   "metadata": {
    "jp-MarkdownHeadingCollapsed": true
   },
   "source": [
    "## Assignment (Rock, Paper Scissor Game )"
   ]
  },
  {
   "cell_type": "code",
   "execution_count": null,
   "id": "8d0b07a7-0b6f-4ce5-8a00-b3431afe3067",
   "metadata": {},
   "outputs": [],
   "source": [
    "# To know how rock paper and scissors game rules works\n",
    "# https://wrpsa.com/"
   ]
  },
  {
   "cell_type": "code",
   "execution_count": 143,
   "id": "49263fa9-b7e2-4533-a1df-33168db6e275",
   "metadata": {},
   "outputs": [
    {
     "name": "stdin",
     "output_type": "stream",
     "text": [
      "What do you choose? Type 0 for Rock, 1 for Paper or 2 for Scissors.\n",
      " 0\n"
     ]
    },
    {
     "name": "stdout",
     "output_type": "stream",
     "text": [
      "\n",
      "    _______\n",
      "---'   ____)\n",
      "      (_____)\n",
      "      (_____)\n",
      "      (____)\n",
      "---.__(___)\n",
      "\n",
      "Computer chose:\n",
      "\n",
      "    _______\n",
      "---'   ____)____\n",
      "          ______)\n",
      "          _______)\n",
      "         _______)\n",
      "---.__________)\n",
      "\n",
      "You lose\n"
     ]
    }
   ],
   "source": [
    "import random\n",
    "\n",
    "rock = '''\n",
    "    _______\n",
    "---'   ____)\n",
    "      (_____)\n",
    "      (_____)\n",
    "      (____)\n",
    "---.__(___)\n",
    "'''\n",
    "\n",
    "paper = '''\n",
    "    _______\n",
    "---'   ____)____\n",
    "          ______)\n",
    "          _______)\n",
    "         _______)\n",
    "---.__________)\n",
    "'''\n",
    "\n",
    "scissors = '''\n",
    "    _______\n",
    "---'   ____)____\n",
    "          ______)\n",
    "       __________)\n",
    "      (____)\n",
    "---.__(___)\n",
    "'''\n",
    "\n",
    "game_images = [rock, paper, scissors]\n",
    "\n",
    "user_choice = int(input(\"What do you choose? Type 0 for Rock, 1 for Paper or 2 for Scissors.\\n\"))\n",
    "print(game_images[user_choice])\n",
    "\n",
    "computer_choice = random.randint(0, 2)\n",
    "print(\"Computer chose:\")\n",
    "print(game_images[computer_choice])\n",
    "\n",
    "if user_choice >= 3 or user_choice < 0: \n",
    "  print(\"You typed an invalid number, you lose!\") \n",
    "elif user_choice == 0 and computer_choice == 2:\n",
    "  print(\"You win!\")\n",
    "elif computer_choice == 0 and user_choice == 2:\n",
    "  print(\"You lose\")\n",
    "elif computer_choice > user_choice:\n",
    "  print(\"You lose\")\n",
    "elif user_choice > computer_choice:\n",
    "  print(\"You win!\")\n",
    "elif computer_choice == user_choice:\n",
    "  print(\"It's a draw\")"
   ]
  },
  {
   "cell_type": "code",
   "execution_count": null,
   "id": "f7406a1f-28ce-4cab-b10e-7002ae2e798f",
   "metadata": {},
   "outputs": [],
   "source": []
  }
 ],
 "metadata": {
  "kernelspec": {
   "display_name": "Python 3 (ipykernel)",
   "language": "python",
   "name": "python3"
  },
  "language_info": {
   "codemirror_mode": {
    "name": "ipython",
    "version": 3
   },
   "file_extension": ".py",
   "mimetype": "text/x-python",
   "name": "python",
   "nbconvert_exporter": "python",
   "pygments_lexer": "ipython3",
   "version": "3.11.7"
  }
 },
 "nbformat": 4,
 "nbformat_minor": 5
}
