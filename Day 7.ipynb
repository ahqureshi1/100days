{
 "cells": [
  {
   "cell_type": "markdown",
   "id": "2d3f37bd-bd5e-4920-8e91-3330c722a093",
   "metadata": {},
   "source": [
    "## Hangman Game Project"
   ]
  },
  {
   "cell_type": "markdown",
   "id": "192a99b2-6e27-426f-8db1-f83213b9af30",
   "metadata": {},
   "source": [
    "### Write a program that guess the given letter is correct or not"
   ]
  },
  {
   "cell_type": "markdown",
   "id": "d04f1a40-7223-4a78-9a1b-cab4f0a565a0",
   "metadata": {},
   "source": [
    "#### Part 1:Picking random words and checking answer"
   ]
  },
  {
   "cell_type": "code",
   "execution_count": 1,
   "id": "88464d2f-7019-43e5-9c9e-345e22c2bd5f",
   "metadata": {},
   "outputs": [
    {
     "name": "stdout",
     "output_type": "stream",
     "text": [
      "aardvark\n"
     ]
    },
    {
     "name": "stdin",
     "output_type": "stream",
     "text": [
      "Guess one letter of the word\n",
      " a\n"
     ]
    },
    {
     "name": "stdout",
     "output_type": "stream",
     "text": [
      "Right\n",
      "Right\n",
      "Wrong\n",
      "Wrong\n",
      "Wrong\n",
      "Right\n",
      "Wrong\n",
      "Wrong\n"
     ]
    }
   ],
   "source": [
    "#Step 1 \n",
    "\n",
    "word_list = [\"aardvark\", \"baboon\", \"camel\"]\n",
    "\n",
    "#TODO-1 - Randomly choose a word from the word_list and assign it to a variable called chosen_word.\n",
    "import random\n",
    "choosen_word=random.choice(word_list)\n",
    "\n",
    "\n",
    "#TODO-2 - Ask the user to guess a letter and assign their answer to a variable called guess. Make guess lowercase.\n",
    "guess=input(\"Guess one letter of the word\\n\").lower()\n",
    "\n",
    "\n",
    "#TODO-3 - Check if the letter the user guessed (guess) is one of the letters in the chosen_word.\n",
    "for letter in choosen_word:\n",
    "  if letter == guess:\n",
    "    print(\"Right\")\n",
    "  else:\n",
    "    print(\"Wrong\")"
   ]
  },
  {
   "cell_type": "markdown",
   "id": "1d1d48a8-1555-4a21-8dda-114007fe3316",
   "metadata": {},
   "source": [
    "#### Part 2: Replace blanks with letters"
   ]
  },
  {
   "cell_type": "code",
   "execution_count": 10,
   "id": "f8b320a9-5b6d-4bcf-be8e-8bf50c2c7b74",
   "metadata": {},
   "outputs": [
    {
     "name": "stdout",
     "output_type": "stream",
     "text": [
      "Pssst, the solution is camel.\n"
     ]
    },
    {
     "name": "stdin",
     "output_type": "stream",
     "text": [
      "Guess a letter:  a\n"
     ]
    },
    {
     "name": "stdout",
     "output_type": "stream",
     "text": [
      "['_', 'a', '_', '_', '_']\n"
     ]
    }
   ],
   "source": [
    "#Step 2\n",
    "\n",
    "import random\n",
    "word_list = [\"aardvark\", \"baboon\", \"camel\"]\n",
    "chosen_word = random.choice(word_list)\n",
    "\n",
    "#Testing code\n",
    "print(f'Pssst, the solution is {chosen_word}.')\n",
    "\n",
    "#TODO-1: - Create an empty List called display.\n",
    "#For each letter in the chosen_word, add a \"_\" to 'display'.\n",
    "#So if the chosen_word was \"apple\", display should be [\"_\", \"_\", \"_\", \"_\", \"_\"] with 5 \"_\" representing each letter to guess.\n",
    "display = []\n",
    "word_length = len(chosen_word)\n",
    "for _ in range(word_length):\n",
    "    display += \"_\"\n",
    "\n",
    "guess = input(\"Guess a letter: \").lower()\n",
    "\n",
    "#TODO-2: - Loop through each position in the chosen_word;\n",
    "#If the letter at that position matches 'guess' then reveal that letter in the display at that position.\n",
    "#e.g. If the user guessed \"p\" and the chosen word was \"apple\", then display should be [\"_\", \"p\", \"p\", \"_\", \"_\"].\n",
    "for position in range(word_length):\n",
    "    letter = chosen_word[position]\n",
    "    #print(f\"Current position: {position}\\n Current letter: {letter}\\n Guessed letter: {guess}\")\n",
    "    if letter == guess:\n",
    "        display[position] = letter\n",
    "\n",
    "#TODO-3: - Print 'display' and you should see the guessed letter in the correct position and every other letter replace with \"_\".\n",
    "#Hint - Don't worry about getting the user to guess the next letter. We'll tackle that in step 3.\n",
    "print(display)"
   ]
  },
  {
   "cell_type": "markdown",
   "id": "e5152dec-5386-46eb-b684-7f006f9dd39f",
   "metadata": {},
   "source": [
    "#### Part 3: All letters to input by user and all blanks spaces should be covered"
   ]
  },
  {
   "cell_type": "code",
   "execution_count": 11,
   "id": "68a683fc-35b4-4556-8583-04496376d9e1",
   "metadata": {},
   "outputs": [
    {
     "name": "stdout",
     "output_type": "stream",
     "text": [
      "Pssst, the solution is baboon.\n"
     ]
    },
    {
     "name": "stdin",
     "output_type": "stream",
     "text": [
      "Guess a letter:  a\n"
     ]
    },
    {
     "name": "stdout",
     "output_type": "stream",
     "text": [
      "['_', 'a', '_', '_', '_', '_']\n"
     ]
    },
    {
     "name": "stdin",
     "output_type": "stream",
     "text": [
      "Guess a letter:  b\n"
     ]
    },
    {
     "name": "stdout",
     "output_type": "stream",
     "text": [
      "['b', 'a', 'b', '_', '_', '_']\n"
     ]
    },
    {
     "name": "stdin",
     "output_type": "stream",
     "text": [
      "Guess a letter:  o\n"
     ]
    },
    {
     "name": "stdout",
     "output_type": "stream",
     "text": [
      "['b', 'a', 'b', 'o', 'o', '_']\n"
     ]
    },
    {
     "name": "stdin",
     "output_type": "stream",
     "text": [
      "Guess a letter:  n\n"
     ]
    },
    {
     "name": "stdout",
     "output_type": "stream",
     "text": [
      "['b', 'a', 'b', 'o', 'o', 'n']\n",
      "You win.\n"
     ]
    }
   ],
   "source": [
    "#Step 3\n",
    "\n",
    "import random\n",
    "word_list = [\"aardvark\", \"baboon\", \"camel\"]\n",
    "chosen_word = random.choice(word_list)\n",
    "word_length = len(chosen_word)\n",
    "\n",
    "#Testing code\n",
    "print(f'Pssst, the solution is {chosen_word}.')\n",
    "\n",
    "#Create blanks\n",
    "display = []\n",
    "for _ in range(word_length):\n",
    "    display += \"_\"\n",
    "\n",
    "#TODO-1: - Use a while loop to let the user guess again. The loop should only stop once the user has guessed all the letters in the chosen_word and 'display' has no more blanks (\"_\"). Then you can tell the user they've won.\n",
    "end_of_game = False\n",
    "\n",
    "while not end_of_game:\n",
    "    guess = input(\"Guess a letter: \").lower()\n",
    "\n",
    "    #Check guessed letter\n",
    "    for position in range(word_length):\n",
    "        letter = chosen_word[position]\n",
    "        #print(f\"Current position: {position}\\n Current letter: {letter}\\n Guessed letter: {guess}\")\n",
    "        if letter == guess:\n",
    "            display[position] = letter\n",
    "\n",
    "    print(display)\n",
    "\n",
    "    #Check if there are no more \"_\" left in 'display'. Then all letters have been guessed.\n",
    "    if \"_\" not in display:\n",
    "        end_of_game = True\n",
    "        print(\"You win.\")"
   ]
  },
  {
   "cell_type": "code",
   "execution_count": 12,
   "id": "f5895cd4-0aa0-47dd-b396-4c64c5748988",
   "metadata": {},
   "outputs": [
    {
     "name": "stdout",
     "output_type": "stream",
     "text": [
      "Pssst, the solution is baboon.\n"
     ]
    },
    {
     "name": "stdin",
     "output_type": "stream",
     "text": [
      "Guess a letter:  a\n"
     ]
    },
    {
     "name": "stdout",
     "output_type": "stream",
     "text": [
      "_ a _ _ _ _\n",
      "\n",
      "  +---+\n",
      "  |   |\n",
      "      |\n",
      "      |\n",
      "      |\n",
      "      |\n",
      "=========\n",
      "\n"
     ]
    },
    {
     "name": "stdin",
     "output_type": "stream",
     "text": [
      "Guess a letter:  b\n"
     ]
    },
    {
     "name": "stdout",
     "output_type": "stream",
     "text": [
      "b a b _ _ _\n",
      "\n",
      "  +---+\n",
      "  |   |\n",
      "      |\n",
      "      |\n",
      "      |\n",
      "      |\n",
      "=========\n",
      "\n"
     ]
    },
    {
     "name": "stdin",
     "output_type": "stream",
     "text": [
      "Guess a letter:  o\n"
     ]
    },
    {
     "name": "stdout",
     "output_type": "stream",
     "text": [
      "b a b o o _\n",
      "\n",
      "  +---+\n",
      "  |   |\n",
      "      |\n",
      "      |\n",
      "      |\n",
      "      |\n",
      "=========\n",
      "\n"
     ]
    },
    {
     "name": "stdin",
     "output_type": "stream",
     "text": [
      "Guess a letter:  j\n"
     ]
    },
    {
     "name": "stdout",
     "output_type": "stream",
     "text": [
      "b a b o o _\n",
      "\n",
      "  +---+\n",
      "  |   |\n",
      "  O   |\n",
      "      |\n",
      "      |\n",
      "      |\n",
      "=========\n",
      "\n"
     ]
    },
    {
     "name": "stdin",
     "output_type": "stream",
     "text": [
      "Guess a letter:  h\n"
     ]
    },
    {
     "name": "stdout",
     "output_type": "stream",
     "text": [
      "b a b o o _\n",
      "\n",
      "  +---+\n",
      "  |   |\n",
      "  O   |\n",
      "  |   |\n",
      "      |\n",
      "      |\n",
      "=========\n",
      "\n"
     ]
    },
    {
     "name": "stdin",
     "output_type": "stream",
     "text": [
      "Guess a letter:  n\n"
     ]
    },
    {
     "name": "stdout",
     "output_type": "stream",
     "text": [
      "b a b o o n\n",
      "You win.\n",
      "\n",
      "  +---+\n",
      "  |   |\n",
      "  O   |\n",
      "  |   |\n",
      "      |\n",
      "      |\n",
      "=========\n",
      "\n"
     ]
    }
   ],
   "source": [
    "#Step 4\n",
    "\n",
    "import random\n",
    "\n",
    "stages = ['''\n",
    "  +---+\n",
    "  |   |\n",
    "  O   |\n",
    " /|\\  |\n",
    " / \\  |\n",
    "      |\n",
    "=========\n",
    "''', '''\n",
    "  +---+\n",
    "  |   |\n",
    "  O   |\n",
    " /|\\  |\n",
    " /    |\n",
    "      |\n",
    "=========\n",
    "''', '''\n",
    "  +---+\n",
    "  |   |\n",
    "  O   |\n",
    " /|\\  |\n",
    "      |\n",
    "      |\n",
    "=========\n",
    "''', '''\n",
    "  +---+\n",
    "  |   |\n",
    "  O   |\n",
    " /|   |\n",
    "      |\n",
    "      |\n",
    "=========''', '''\n",
    "  +---+\n",
    "  |   |\n",
    "  O   |\n",
    "  |   |\n",
    "      |\n",
    "      |\n",
    "=========\n",
    "''', '''\n",
    "  +---+\n",
    "  |   |\n",
    "  O   |\n",
    "      |\n",
    "      |\n",
    "      |\n",
    "=========\n",
    "''', '''\n",
    "  +---+\n",
    "  |   |\n",
    "      |\n",
    "      |\n",
    "      |\n",
    "      |\n",
    "=========\n",
    "''']\n",
    "\n",
    "end_of_game = False\n",
    "word_list = [\"ardvark\", \"baboon\", \"camel\"]\n",
    "chosen_word = random.choice(word_list)\n",
    "word_length = len(chosen_word)\n",
    "\n",
    "#TODO-1: - Create a variable called 'lives' to keep track of the number of lives left. \n",
    "#Set 'lives' to equal 6.\n",
    "lives = 6\n",
    "\n",
    "#Testing code\n",
    "print(f'Pssst, the solution is {chosen_word}.')\n",
    "\n",
    "#Create blanks\n",
    "display = []\n",
    "for _ in range(word_length):\n",
    "    display += \"_\"\n",
    "\n",
    "while not end_of_game:\n",
    "    guess = input(\"Guess a letter: \").lower()\n",
    "\n",
    "    #Check guessed letter\n",
    "    for position in range(word_length):\n",
    "        letter = chosen_word[position]\n",
    "       # print(f\"Current position: {position}\\n Current letter: {letter}\\n Guessed letter: {guess}\")\n",
    "        if letter == guess:\n",
    "            display[position] = letter\n",
    "\n",
    "    #TODO-2: - If guess is not a letter in the chosen_word,\n",
    "    #Then reduce 'lives' by 1. \n",
    "    #If lives goes down to 0 then the game should stop and it should print \"You lose.\"\n",
    "    if guess not in chosen_word:\n",
    "        lives -= 1\n",
    "        if lives == 0:\n",
    "            end_of_game = True\n",
    "            print(\"You lose.\")\n",
    "\n",
    "    #Join all the elements in the list and turn it into a String.\n",
    "    print(f\"{' '.join(display)}\")\n",
    "\n",
    "    #Check if user has got all letters.\n",
    "    if \"_\" not in display:\n",
    "        end_of_game = True\n",
    "        print(\"You win.\")\n",
    "\n",
    "    #TODO-3: - print the ASCII art from 'stages' that corresponds to the current number of 'lives' the user has remaining.\n",
    "    print(stages[lives])"
   ]
  },
  {
   "cell_type": "code",
   "execution_count": 26,
   "id": "ddb0a151-60f3-4dd6-b14d-71b93503185c",
   "metadata": {},
   "outputs": [
    {
     "name": "stdout",
     "output_type": "stream",
     "text": [
      "['abruptly', 'absurd', 'abyss', 'affix', 'askew', 'avenue', 'awkward', 'axiom', 'azure', 'bagpipes', 'bandwagon', 'banjo', 'bayou', 'beekeeper', 'bikini', 'blitz', 'blizzard', 'boggle', 'bookworm', 'boxcar', 'boxful', 'buckaroo', 'buffalo', 'buffoon', 'buxom', 'buzzard', 'buzzing', 'buzzwords', 'caliph', 'cobweb', 'cockiness', 'croquet', 'crypt', 'curacao', 'cycle', 'daiquiri', 'dirndl', 'disavow', 'dizzying', 'duplex', 'dwarves', 'embezzle', 'equip', 'espionage', 'euouae', 'exodus', 'faking', 'fishhook', 'fixable', 'fjord', 'flapjack', 'flopping', 'fluffiness', 'flyby', 'foxglove', 'frazzled', 'frizzled', 'fuchsia', 'funny', 'gabby', 'galaxy', 'galvanize', 'gazebo', 'giaour', 'gizmo', 'glowworm', 'glyph', 'gnarly', 'gnostic', 'gossip', 'grogginess', 'haiku', 'haphazard', 'hyphen', 'iatrogenic', 'icebox', 'injury', 'ivory', 'ivy', 'jackpot', 'jaundice', 'jawbreaker', 'jaywalk', 'jazziest', 'jazzy', 'jelly', 'jigsaw', 'jinx', 'jiujitsu', 'jockey', 'jogging', 'joking', 'jovial', 'joyful', 'juicy', 'jukebox', 'jumbo', 'kayak', 'kazoo', 'keyhole', 'khaki', 'kilobyte', 'kiosk', 'kitsch', 'kiwifruit', 'klutz', 'knapsack', 'larynx', 'lengths', 'lucky', 'luxury', 'lymph', 'marquis', 'matrix', 'megahertz', 'microwave', 'mnemonic', 'mystify', 'naphtha', 'nightclub', 'nowadays', 'numbskull', 'nymph', 'onyx', 'ovary', 'oxidize', 'oxygen', 'pajama', 'peekaboo', 'phlegm', 'pixel', 'pizazz', 'pneumonia', 'polka', 'pshaw', 'psyche', 'puppy', 'puzzling', 'quartz', 'queue', 'quips', 'quixotic', 'quiz', 'quizzes', 'quorum', 'razzmatazz', 'rhubarb', 'rhythm', 'rickshaw', 'schnapps', 'scratch', 'shiv', 'snazzy', 'sphinx', 'spritz', 'squawk', 'staff', 'strength', 'strengths', 'stretch', 'stronghold', 'stymied', 'subway', 'swivel', 'syndrome', 'thriftless', 'thumbscrew', 'topaz', 'transcript', 'transgress', 'transplant', 'triphthong', 'twelfth', 'twelfths', 'unknown', 'unworthy', 'unzip', 'uptown', 'vaporize', 'vixen', 'vodka', 'voodoo', 'vortex', 'voyeurism', 'walkway', 'waltz', 'wave', 'wavy', 'waxy', 'wellspring', 'wheezy', 'whiskey', 'whizzing', 'whomever', 'wimpy', 'witchcraft', 'wizard', 'woozy', 'wristwatch', 'wyvern', 'xylophone', 'yachtsman', 'yippee', 'yoked', 'youthful', 'yummy', 'zephyr', 'zigzag', 'zigzagging', 'zilch', 'zipper', 'zodiac', 'zombie']\n"
     ]
    }
   ],
   "source": [
    "word_list = [\n",
    "'abruptly', \n",
    "'absurd', \n",
    "'abyss', \n",
    "'affix', \n",
    "'askew', \n",
    "'avenue', \n",
    "'awkward', \n",
    "'axiom', \n",
    "'azure', \n",
    "'bagpipes', \n",
    "'bandwagon', \n",
    "'banjo', \n",
    "'bayou', \n",
    "'beekeeper', \n",
    "'bikini', \n",
    "'blitz', \n",
    "'blizzard', \n",
    "'boggle', \n",
    "'bookworm', \n",
    "'boxcar', \n",
    "'boxful', \n",
    "'buckaroo', \n",
    "'buffalo', \n",
    "'buffoon', \n",
    "'buxom', \n",
    "'buzzard', \n",
    "'buzzing', \n",
    "'buzzwords', \n",
    "'caliph', \n",
    "'cobweb', \n",
    "'cockiness', \n",
    "'croquet', \n",
    "'crypt', \n",
    "'curacao', \n",
    "'cycle', \n",
    "'daiquiri', \n",
    "'dirndl', \n",
    "'disavow', \n",
    "'dizzying', \n",
    "'duplex', \n",
    "'dwarves', \n",
    "'embezzle', \n",
    "'equip', \n",
    "'espionage', \n",
    "'euouae', \n",
    "'exodus', \n",
    "'faking', \n",
    "'fishhook', \n",
    "'fixable', \n",
    "'fjord', \n",
    "'flapjack', \n",
    "'flopping', \n",
    "'fluffiness', \n",
    "'flyby', \n",
    "'foxglove', \n",
    "'frazzled', \n",
    "'frizzled', \n",
    "'fuchsia', \n",
    "'funny', \n",
    "'gabby', \n",
    "'galaxy', \n",
    "'galvanize', \n",
    "'gazebo', \n",
    "'giaour', \n",
    "'gizmo', \n",
    "'glowworm', \n",
    "'glyph', \n",
    "'gnarly', \n",
    "'gnostic', \n",
    "'gossip', \n",
    "'grogginess', \n",
    "'haiku', \n",
    "'haphazard', \n",
    "'hyphen', \n",
    "'iatrogenic', \n",
    "'icebox', \n",
    "'injury', \n",
    "'ivory', \n",
    "'ivy', \n",
    "'jackpot', \n",
    "'jaundice', \n",
    "'jawbreaker', \n",
    "'jaywalk', \n",
    "'jazziest', \n",
    "'jazzy', \n",
    "'jelly', \n",
    "'jigsaw', \n",
    "'jinx', \n",
    "'jiujitsu', \n",
    "'jockey', \n",
    "'jogging', \n",
    "'joking', \n",
    "'jovial', \n",
    "'joyful', \n",
    "'juicy', \n",
    "'jukebox', \n",
    "'jumbo', \n",
    "'kayak', \n",
    "'kazoo', \n",
    "'keyhole', \n",
    "'khaki', \n",
    "'kilobyte', \n",
    "'kiosk', \n",
    "'kitsch', \n",
    "'kiwifruit', \n",
    "'klutz', \n",
    "'knapsack', \n",
    "'larynx', \n",
    "'lengths', \n",
    "'lucky', \n",
    "'luxury', \n",
    "'lymph', \n",
    "'marquis', \n",
    "'matrix', \n",
    "'megahertz', \n",
    "'microwave', \n",
    "'mnemonic', \n",
    "'mystify', \n",
    "'naphtha', \n",
    "'nightclub', \n",
    "'nowadays', \n",
    "'numbskull', \n",
    "'nymph', \n",
    "'onyx', \n",
    "'ovary', \n",
    "'oxidize', \n",
    "'oxygen', \n",
    "'pajama', \n",
    "'peekaboo', \n",
    "'phlegm', \n",
    "'pixel', \n",
    "'pizazz', \n",
    "'pneumonia', \n",
    "'polka', \n",
    "'pshaw', \n",
    "'psyche', \n",
    "'puppy', \n",
    "'puzzling', \n",
    "'quartz', \n",
    "'queue', \n",
    "'quips', \n",
    "'quixotic', \n",
    "'quiz', \n",
    "'quizzes', \n",
    "'quorum', \n",
    "'razzmatazz', \n",
    "'rhubarb', \n",
    "'rhythm', \n",
    "'rickshaw', \n",
    "'schnapps', \n",
    "'scratch', \n",
    "'shiv', \n",
    "'snazzy', \n",
    "'sphinx', \n",
    "'spritz', \n",
    "'squawk', \n",
    "'staff', \n",
    "'strength', \n",
    "'strengths', \n",
    "'stretch', \n",
    "'stronghold', \n",
    "'stymied', \n",
    "'subway', \n",
    "'swivel', \n",
    "'syndrome', \n",
    "'thriftless', \n",
    "'thumbscrew', \n",
    "'topaz', \n",
    "'transcript', \n",
    "'transgress', \n",
    "'transplant', \n",
    "'triphthong', \n",
    "'twelfth', \n",
    "'twelfths', \n",
    "'unknown', \n",
    "'unworthy', \n",
    "'unzip', \n",
    "'uptown', \n",
    "'vaporize', \n",
    "'vixen', \n",
    "'vodka', \n",
    "'voodoo', \n",
    "'vortex', \n",
    "'voyeurism', \n",
    "'walkway', \n",
    "'waltz', \n",
    "'wave', \n",
    "'wavy', \n",
    "'waxy', \n",
    "'wellspring', \n",
    "'wheezy', \n",
    "'whiskey', \n",
    "'whizzing', \n",
    "'whomever', \n",
    "'wimpy', \n",
    "'witchcraft', \n",
    "'wizard', \n",
    "'woozy', \n",
    "'wristwatch', \n",
    "'wyvern', \n",
    "'xylophone', \n",
    "'yachtsman', \n",
    "'yippee', \n",
    "'yoked', \n",
    "'youthful', \n",
    "'yummy', \n",
    "'zephyr', \n",
    "'zigzag', \n",
    "'zigzagging', \n",
    "'zilch', \n",
    "'zipper', \n",
    "'zodiac', \n",
    "'zombie', \n",
    "]\n",
    "\n",
    "stages = ['''\n",
    "  +---+\n",
    "  |   |\n",
    "  O   |\n",
    " /|\\  |\n",
    " / \\  |\n",
    "      |\n",
    "=========\n",
    "''', '''\n",
    "  +---+\n",
    "  |   |\n",
    "  O   |\n",
    " /|\\  |\n",
    " /    |\n",
    "      |\n",
    "=========\n",
    "''', '''\n",
    "  +---+\n",
    "  |   |\n",
    "  O   |\n",
    " /|\\  |\n",
    "      |\n",
    "      |\n",
    "=========\n",
    "''', '''\n",
    "  +---+\n",
    "  |   |\n",
    "  O   |\n",
    " /|   |\n",
    "      |\n",
    "      |\n",
    "=========''', '''\n",
    "  +---+\n",
    "  |   |\n",
    "  O   |\n",
    "  |   |\n",
    "      |\n",
    "      |\n",
    "=========\n",
    "''', '''\n",
    "  +---+\n",
    "  |   |\n",
    "  O   |\n",
    "      |\n",
    "      |\n",
    "      |\n",
    "=========\n",
    "''', '''\n",
    "  +---+\n",
    "  |   |\n",
    "      |\n",
    "      |\n",
    "      |\n",
    "      |\n",
    "=========\n",
    "''']\n",
    "\n",
    "logo = ''' \n",
    " _                                             \n",
    "| |                                            \n",
    "| |__   __ _ _ __   __ _ _ __ ___   __ _ _ __  \n",
    "| '_ \\ / _` | '_ \\ / _` | '_ ` _ \\ / _` | '_ \\ \n",
    "| | | | (_| | | | | (_| | | | | | | (_| | | | |\n",
    "|_| |_|\\__,_|_| |_|\\__, |_| |_| |_|\\__,_|_| |_|\n",
    "                    __/ |                      \n",
    "                   |___/    '''\n",
    "print(word_list)\n"
   ]
  },
  {
   "cell_type": "code",
   "execution_count": 27,
   "id": "a4a8d676-2423-4c5b-bf60-5b8b247e7f2f",
   "metadata": {},
   "outputs": [
    {
     "name": "stdout",
     "output_type": "stream",
     "text": [
      " \n",
      " _                                             \n",
      "| |                                            \n",
      "| |__   __ _ _ __   __ _ _ __ ___   __ _ _ __  \n",
      "| '_ \\ / _` | '_ \\ / _` | '_ ` _ \\ / _` | '_ \\ \n",
      "| | | | (_| | | | | (_| | | | | | | (_| | | | |\n",
      "|_| |_|\\__,_|_| |_|\\__, |_| |_| |_|\\__,_|_| |_|\n",
      "                    __/ |                      \n",
      "                   |___/    \n",
      "Pssst, the solution is schnapps.\n"
     ]
    },
    {
     "name": "stdin",
     "output_type": "stream",
     "text": [
      "Guess a letter:  n\n"
     ]
    },
    {
     "name": "stdout",
     "output_type": "stream",
     "text": [
      "_ _ _ n _ _ _ _\n",
      "\n",
      "  +---+\n",
      "  |   |\n",
      "      |\n",
      "      |\n",
      "      |\n",
      "      |\n",
      "=========\n",
      "\n"
     ]
    },
    {
     "name": "stdin",
     "output_type": "stream",
     "text": [
      "Guess a letter:  a\n"
     ]
    },
    {
     "name": "stdout",
     "output_type": "stream",
     "text": [
      "_ _ _ n a _ _ _\n",
      "\n",
      "  +---+\n",
      "  |   |\n",
      "      |\n",
      "      |\n",
      "      |\n",
      "      |\n",
      "=========\n",
      "\n"
     ]
    },
    {
     "name": "stdin",
     "output_type": "stream",
     "text": [
      "Guess a letter:  p\n"
     ]
    },
    {
     "name": "stdout",
     "output_type": "stream",
     "text": [
      "_ _ _ n a p p _\n",
      "\n",
      "  +---+\n",
      "  |   |\n",
      "      |\n",
      "      |\n",
      "      |\n",
      "      |\n",
      "=========\n",
      "\n"
     ]
    },
    {
     "name": "stdin",
     "output_type": "stream",
     "text": [
      "Guess a letter:  p\n"
     ]
    },
    {
     "name": "stdout",
     "output_type": "stream",
     "text": [
      "You've already guessed p\n",
      "_ _ _ n a p p _\n",
      "\n",
      "  +---+\n",
      "  |   |\n",
      "      |\n",
      "      |\n",
      "      |\n",
      "      |\n",
      "=========\n",
      "\n"
     ]
    },
    {
     "name": "stdin",
     "output_type": "stream",
     "text": [
      "Guess a letter:  s\n"
     ]
    },
    {
     "name": "stdout",
     "output_type": "stream",
     "text": [
      "s _ _ n a p p s\n",
      "\n",
      "  +---+\n",
      "  |   |\n",
      "      |\n",
      "      |\n",
      "      |\n",
      "      |\n",
      "=========\n",
      "\n"
     ]
    },
    {
     "name": "stdin",
     "output_type": "stream",
     "text": [
      "Guess a letter:  c\n"
     ]
    },
    {
     "name": "stdout",
     "output_type": "stream",
     "text": [
      "s c _ n a p p s\n",
      "\n",
      "  +---+\n",
      "  |   |\n",
      "      |\n",
      "      |\n",
      "      |\n",
      "      |\n",
      "=========\n",
      "\n"
     ]
    },
    {
     "name": "stdin",
     "output_type": "stream",
     "text": [
      "Guess a letter:  t\n"
     ]
    },
    {
     "name": "stdout",
     "output_type": "stream",
     "text": [
      "You guessed t, that's not in the word. You lose a life.\n",
      "s c _ n a p p s\n",
      "\n",
      "  +---+\n",
      "  |   |\n",
      "  O   |\n",
      "      |\n",
      "      |\n",
      "      |\n",
      "=========\n",
      "\n"
     ]
    },
    {
     "name": "stdin",
     "output_type": "stream",
     "text": [
      "Guess a letter:  a\n"
     ]
    },
    {
     "name": "stdout",
     "output_type": "stream",
     "text": [
      "You've already guessed a\n",
      "s c _ n a p p s\n",
      "\n",
      "  +---+\n",
      "  |   |\n",
      "  O   |\n",
      "      |\n",
      "      |\n",
      "      |\n",
      "=========\n",
      "\n"
     ]
    },
    {
     "name": "stdin",
     "output_type": "stream",
     "text": [
      "Guess a letter:  h\n"
     ]
    },
    {
     "name": "stdout",
     "output_type": "stream",
     "text": [
      "s c h n a p p s\n",
      "You win.\n",
      "\n",
      "  +---+\n",
      "  |   |\n",
      "  O   |\n",
      "      |\n",
      "      |\n",
      "      |\n",
      "=========\n",
      "\n"
     ]
    }
   ],
   "source": [
    "import random\n",
    "chosen_word = random.choice(word_list)\n",
    "word_length = len(chosen_word)\n",
    "end_of_game = False\n",
    "lives = 6\n",
    "print(logo)\n",
    "print(f'Pssst, the solution is {chosen_word}.')\n",
    "display = []\n",
    "for _ in range(word_length):\n",
    "    display += \"_\"\n",
    "while not end_of_game:\n",
    "    guess = input(\"Guess a letter: \").lower()  \n",
    "    if guess in display:\n",
    "        print(f\"You've already guessed {guess}\")\n",
    "    for position in range(word_length):\n",
    "        letter = chosen_word[position]\n",
    "        if letter == guess:\n",
    "            display[position] = letter\n",
    "    if guess not in chosen_word:\n",
    "        print(f\"You guessed {guess}, that's not in the word. You lose a life.\")     \n",
    "        lives -= 1\n",
    "        if lives == 0:\n",
    "            end_of_game = True\n",
    "            print(\"You lose.\")\n",
    "    print(f\"{' '.join(display)}\")\n",
    "    if \"_\" not in display:\n",
    "        end_of_game = True\n",
    "        print(\"You win.\")\n",
    "    print(stages[lives])\n"
   ]
  },
  {
   "cell_type": "code",
   "execution_count": null,
   "id": "8ae1cb1d-1c5f-4428-b214-173f0fa0daaf",
   "metadata": {},
   "outputs": [],
   "source": []
  },
  {
   "cell_type": "code",
   "execution_count": null,
   "id": "e375ce77-03a4-46fe-828e-fd58d7fd18a8",
   "metadata": {},
   "outputs": [],
   "source": []
  }
 ],
 "metadata": {
  "kernelspec": {
   "display_name": "Python 3 (ipykernel)",
   "language": "python",
   "name": "python3"
  },
  "language_info": {
   "codemirror_mode": {
    "name": "ipython",
    "version": 3
   },
   "file_extension": ".py",
   "mimetype": "text/x-python",
   "name": "python",
   "nbconvert_exporter": "python",
   "pygments_lexer": "ipython3",
   "version": "3.11.7"
  }
 },
 "nbformat": 4,
 "nbformat_minor": 5
}
