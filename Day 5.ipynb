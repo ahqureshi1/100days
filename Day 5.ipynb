{
 "cells": [
  {
   "cell_type": "markdown",
   "id": "fc5b4695-9dac-455b-9ef8-de507c60da06",
   "metadata": {},
   "source": [
    "# Python Loops"
   ]
  },
  {
   "cell_type": "markdown",
   "id": "ec523561-4870-4373-a456-bda6801301a2",
   "metadata": {
    "jp-MarkdownHeadingCollapsed": true
   },
   "source": [
    "## For Loops in Python list:"
   ]
  },
  {
   "cell_type": "code",
   "execution_count": 1,
   "id": "ab141f08-74bb-4175-9fd0-6046951fffc8",
   "metadata": {},
   "outputs": [
    {
     "name": "stdout",
     "output_type": "stream",
     "text": [
      "Apple\n",
      "Apple Pie\n",
      "Peach\n",
      "Peach Pie\n",
      "Pear\n",
      "Pear Pie\n",
      "['Apple', 'Peach', 'Pear']\n"
     ]
    }
   ],
   "source": [
    "#For Loop with Lists\n",
    "fruits = [\"Apple\", \"Peach\", \"Pear\"]\n",
    "for fruit in fruits:\n",
    "  print(fruit)\n",
    "  print(fruit + \" Pie\")\n",
    "print(fruits)"
   ]
  },
  {
   "cell_type": "code",
   "execution_count": null,
   "id": "e96dfef0-84a4-44ad-a1ce-c49283ed8673",
   "metadata": {},
   "outputs": [],
   "source": []
  },
  {
   "cell_type": "code",
   "execution_count": 5,
   "id": "e8062990-e704-4472-849f-d95901f669ae",
   "metadata": {},
   "outputs": [
    {
     "name": "stdin",
     "output_type": "stream",
     "text": [
      "Write the heights of students spearated by comma. 23, 23, 23, 23\n"
     ]
    },
    {
     "name": "stdout",
     "output_type": "stream",
     "text": [
      "total height = 92\n",
      "number of students = 4\n",
      "average height = 23\n"
     ]
    }
   ],
   "source": [
    "# Input a Python list of student heights\n",
    "student_heights = input(\"Write the heights of students spearated by comma.\").split(\", \")\n",
    "for n in range(0, len(student_heights)):\n",
    "  student_heights[n] = int(student_heights[n])\n",
    "# 🚨 Don't change the code above 👆\n",
    "total_height=0\n",
    "for height in student_heights:\n",
    "  total_height+=height\n",
    "print(f\"total height = {total_height}\")\n",
    "\n",
    "number_of_students=0\n",
    "for student in student_heights:\n",
    "  number_of_students+=1\n",
    "print(f\"number of students = {number_of_students}\")\n",
    "\n",
    "average_height = round(total_height/number_of_students)\n",
    "print(f\"average height = {average_height}\")"
   ]
  },
  {
   "cell_type": "markdown",
   "id": "a48b2ae3-f200-43bd-9896-9401cb37aa25",
   "metadata": {
    "jp-MarkdownHeadingCollapsed": true
   },
   "source": [
    "## Replicate Max function to create Highest Score using loops:"
   ]
  },
  {
   "cell_type": "code",
   "execution_count": 7,
   "id": "ea914d90-d62b-491e-9efb-34a34b434f60",
   "metadata": {},
   "outputs": [
    {
     "name": "stdin",
     "output_type": "stream",
     "text": [
      "Write the score of students separated by a comma 23, 24, 54, 65, 78, 92\n"
     ]
    },
    {
     "name": "stdout",
     "output_type": "stream",
     "text": [
      "The highest score in the class is: 92\n"
     ]
    }
   ],
   "source": [
    "# Input a list of student scores\n",
    "student_scores = input(\"Write the score of students separated by a comma\").split(\", \")\n",
    "for n in range(0, len(student_scores)):\n",
    "  student_scores[n] = int(student_scores[n])\n",
    "\n",
    "# Write your code below this row 👇\n",
    "highest_score=0\n",
    "for score in student_scores:\n",
    "  if score>highest_score:\n",
    "    highest_score=score\n",
    "\n",
    "print(f\"The highest score in the class is: {highest_score}\")\n",
    "    "
   ]
  },
  {
   "cell_type": "markdown",
   "id": "55a3ec76-4e64-40d7-b267-27efd3340014",
   "metadata": {
    "jp-MarkdownHeadingCollapsed": true
   },
   "source": [
    "## For loops and Range Function\n",
    "                          "
   ]
  },
  {
   "cell_type": "code",
   "execution_count": 26,
   "id": "1a7fc4c7-f666-4714-8706-d5d60b0000a8",
   "metadata": {},
   "outputs": [
    {
     "name": "stdout",
     "output_type": "stream",
     "text": [
      "1\n",
      "2\n",
      "3\n",
      "4\n",
      "5\n",
      "6\n",
      "7\n",
      "8\n",
      "9\n",
      "10\n"
     ]
    }
   ],
   "source": [
    "for numbers in range(1,11): #in range the last number is not included.\n",
    "    print(numbers)"
   ]
  },
  {
   "cell_type": "code",
   "execution_count": 27,
   "id": "cb38bbe3-80cd-4a97-bda7-84a311934802",
   "metadata": {},
   "outputs": [
    {
     "name": "stdout",
     "output_type": "stream",
     "text": [
      "1\n",
      "4\n",
      "7\n",
      "10\n"
     ]
    }
   ],
   "source": [
    "# in range we can specify the steps also for example we want numbers with 3 steps so we write range(1,11,3)\n",
    "for numbers in range(1,11,3): \n",
    "    print(numbers)"
   ]
  },
  {
   "cell_type": "markdown",
   "id": "dffcb929-10fd-4a1d-b139-94620beda9fc",
   "metadata": {
    "jp-MarkdownHeadingCollapsed": true
   },
   "source": [
    "## Add number between 1 to 100 using for loop and range function"
   ]
  },
  {
   "cell_type": "code",
   "execution_count": 28,
   "id": "ec09bf6e-d734-4dc6-8850-a72a31682339",
   "metadata": {},
   "outputs": [
    {
     "name": "stdout",
     "output_type": "stream",
     "text": [
      "5050\n"
     ]
    }
   ],
   "source": [
    "total =0\n",
    "for number in range(1,101):\n",
    "    total+=number\n",
    "print(total)"
   ]
  },
  {
   "cell_type": "markdown",
   "id": "99cb4b57-985e-4eb1-a9b8-4b8e893b293c",
   "metadata": {
    "jp-MarkdownHeadingCollapsed": true
   },
   "source": [
    "## Add all even numbers till user inputed number"
   ]
  },
  {
   "cell_type": "code",
   "execution_count": 33,
   "id": "149eeda1-9adf-4176-9e34-ceecf3c7abde",
   "metadata": {},
   "outputs": [
    {
     "name": "stdin",
     "output_type": "stream",
     "text": [
      "Enter a number between 0 to 1000 100\n"
     ]
    },
    {
     "name": "stdout",
     "output_type": "stream",
     "text": [
      "2550\n"
     ]
    }
   ],
   "source": [
    "target = int(input(\"Enter a number between 0 to 1000\")) # Enter a number between 0 and 1000\n",
    "# 🚨 Do not change the code above ☝️\n",
    "\n",
    "# Write your code here 👇\n",
    "\n",
    "sum=0\n",
    "for number in range(2,target+1,2):\n",
    "  sum+=number\n",
    "print(sum)"
   ]
  },
  {
   "cell_type": "markdown",
   "id": "7c2d83c7-a631-4c65-9869-a0f752015737",
   "metadata": {
    "jp-MarkdownHeadingCollapsed": true
   },
   "source": [
    "## FizzBuzz Game"
   ]
  },
  {
   "cell_type": "code",
   "execution_count": 34,
   "id": "6fd5f50a-157f-4fcd-ba13-a95c09bac5af",
   "metadata": {},
   "outputs": [],
   "source": [
    "# You are going to write a program that automatically prints the solution to the FizzBuzz game. These are the rules of the FizzBuzz game:\n",
    "\n",
    "# Your program should print each number from 1 to 100 in turn and include number 100.\n",
    "\n",
    "# When the number is divisible by 3 then instead of printing the number it should print \"Fizz\".\n",
    "\n",
    "# When the number is divisible by 5, then instead of printing the number it should print \"Buzz\".`\n",
    "\n",
    "# And if the number is divisible by both 3 and 5 e.g. 15 then instead of the number it should print \"FizzBuzz\""
   ]
  },
  {
   "cell_type": "code",
   "execution_count": 35,
   "id": "3c08e69d-7e60-4419-8693-3f9203c00ad4",
   "metadata": {},
   "outputs": [
    {
     "name": "stdout",
     "output_type": "stream",
     "text": [
      "1\n",
      "2\n",
      "Fizz\n",
      "4\n",
      "Buzz\n",
      "Fizz\n",
      "7\n",
      "8\n",
      "Fizz\n",
      "Buzz\n",
      "11\n",
      "Fizz\n",
      "13\n",
      "14\n",
      "FizzBuzz\n",
      "16\n",
      "17\n",
      "Fizz\n",
      "19\n",
      "Buzz\n",
      "Fizz\n",
      "22\n",
      "23\n",
      "Fizz\n",
      "Buzz\n",
      "26\n",
      "Fizz\n",
      "28\n",
      "29\n",
      "FizzBuzz\n",
      "31\n",
      "32\n",
      "Fizz\n",
      "34\n",
      "Buzz\n",
      "Fizz\n",
      "37\n",
      "38\n",
      "Fizz\n",
      "Buzz\n",
      "41\n",
      "Fizz\n",
      "43\n",
      "44\n",
      "FizzBuzz\n",
      "46\n",
      "47\n",
      "Fizz\n",
      "49\n",
      "Buzz\n",
      "Fizz\n",
      "52\n",
      "53\n",
      "Fizz\n",
      "Buzz\n",
      "56\n",
      "Fizz\n",
      "58\n",
      "59\n",
      "FizzBuzz\n",
      "61\n",
      "62\n",
      "Fizz\n",
      "64\n",
      "Buzz\n",
      "Fizz\n",
      "67\n",
      "68\n",
      "Fizz\n",
      "Buzz\n",
      "71\n",
      "Fizz\n",
      "73\n",
      "74\n",
      "FizzBuzz\n",
      "76\n",
      "77\n",
      "Fizz\n",
      "79\n",
      "Buzz\n",
      "Fizz\n",
      "82\n",
      "83\n",
      "Fizz\n",
      "Buzz\n",
      "86\n",
      "Fizz\n",
      "88\n",
      "89\n",
      "FizzBuzz\n",
      "91\n",
      "92\n",
      "Fizz\n",
      "94\n",
      "Buzz\n",
      "Fizz\n",
      "97\n",
      "98\n",
      "Fizz\n",
      "Buzz\n"
     ]
    }
   ],
   "source": [
    "x=0\n",
    "for number in range(1,101,1):\n",
    "  x=number\n",
    "  if x%3!=0 and x%5!=0:\n",
    "    print(x)\n",
    "  elif x%3==0 and x%5==0:\n",
    "    print(\"FizzBuzz\")\n",
    "  elif x%3==0:\n",
    "    print(\"Fizz\")\n",
    "  elif x%5==0:\n",
    "    print(\"Buzz\")\n"
   ]
  },
  {
   "cell_type": "markdown",
   "id": "3665253c-ec1f-4610-be2f-2c9f2b255b1e",
   "metadata": {
    "jp-MarkdownHeadingCollapsed": true
   },
   "source": [
    "## Final Project: Random Password Generator"
   ]
  },
  {
   "cell_type": "code",
   "execution_count": 37,
   "id": "3383296c-8a9f-49f5-a148-f812d94c294a",
   "metadata": {},
   "outputs": [
    {
     "name": "stdout",
     "output_type": "stream",
     "text": [
      "Welcome to the PyPassword Generator!\n"
     ]
    },
    {
     "name": "stdin",
     "output_type": "stream",
     "text": [
      "How many letters would you like in your password?\n",
      " 4\n",
      "How many symbols would you like?\n",
      " 1\n",
      "How many numbers would you like?\n",
      " 1\n"
     ]
    },
    {
     "name": "stdout",
     "output_type": "stream",
     "text": [
      "['F', 'n', 'T', 'M', '&', '2']\n",
      "['T', '&', '2', 'n', 'M', 'F']\n",
      "Your password is: T&2nMF\n"
     ]
    }
   ],
   "source": [
    "#Password Generator Project\n",
    "import random\n",
    "letters = ['a', 'b', 'c', 'd', 'e', 'f', 'g', 'h', 'i', 'j', 'k', 'l', 'm', 'n', 'o', 'p', 'q', 'r', 's', 't', 'u', 'v', 'w', 'x', 'y', 'z', 'A', 'B', 'C', 'D', 'E', 'F', 'G', 'H', 'I', 'J', 'K', 'L', 'M', 'N', 'O', 'P', 'Q', 'R', 'S', 'T', 'U', 'V', 'W', 'X', 'Y', 'Z']\n",
    "numbers = ['0', '1', '2', '3', '4', '5', '6', '7', '8', '9']\n",
    "symbols = ['!', '#', '$', '%', '&', '(', ')', '*', '+']\n",
    "\n",
    "print(\"Welcome to the PyPassword Generator!\")\n",
    "nr_letters = int(input(\"How many letters would you like in your password?\\n\")) \n",
    "nr_symbols = int(input(f\"How many symbols would you like?\\n\"))\n",
    "nr_numbers = int(input(f\"How many numbers would you like?\\n\"))\n",
    "\n",
    "#Eazy Level\n",
    "# password = \"\"\n",
    "\n",
    "# for char in range(1, nr_letters + 1):\n",
    "#   password += random.choice(letters)\n",
    "\n",
    "# for char in range(1, nr_symbols + 1):\n",
    "#   password += random.choice(symbols)\n",
    "\n",
    "# for char in range(1, nr_numbers + 1):\n",
    "#   password += random.choice(numbers)\n",
    "\n",
    "# print(password)\n",
    "\n",
    "#Hard Level\n",
    "password_list = []\n",
    "\n",
    "for char in range(1, nr_letters + 1):\n",
    "  password_list.append(random.choice(letters))\n",
    "\n",
    "for char in range(1, nr_symbols + 1):\n",
    "  password_list += random.choice(symbols)\n",
    "\n",
    "for char in range(1, nr_numbers + 1):\n",
    "  password_list += random.choice(numbers)\n",
    "\n",
    "print(password_list)\n",
    "random.shuffle(password_list)\n",
    "print(password_list)\n",
    "\n",
    "password = \"\"\n",
    "for char in password_list:\n",
    "  password += char\n",
    "\n",
    "print(f\"Your password is: {password}\")"
   ]
  },
  {
   "cell_type": "code",
   "execution_count": null,
   "id": "d61085e7-f884-49a3-ae52-ee71b4eb70a3",
   "metadata": {},
   "outputs": [],
   "source": []
  }
 ],
 "metadata": {
  "kernelspec": {
   "display_name": "Python 3 (ipykernel)",
   "language": "python",
   "name": "python3"
  },
  "language_info": {
   "codemirror_mode": {
    "name": "ipython",
    "version": 3
   },
   "file_extension": ".py",
   "mimetype": "text/x-python",
   "name": "python",
   "nbconvert_exporter": "python",
   "pygments_lexer": "ipython3",
   "version": "3.11.7"
  }
 },
 "nbformat": 4,
 "nbformat_minor": 5
}
